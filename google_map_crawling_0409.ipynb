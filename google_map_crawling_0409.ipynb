{
 "cells": [
  {
   "cell_type": "code",
   "execution_count": 41,
   "metadata": {},
   "outputs": [],
   "source": [
    "#패키지 import\n",
    "from selenium import webdriver\n",
    "from bs4 import BeautifulSoup\n",
    "from time import sleep\n",
    "import requests\n",
    "import re\n",
    "\n",
    "driver = webdriver.Chrome(executable_path=\"C:/Users/jmlee/Code/chromedriver_win32/chromedriver.exe\")\n",
    "driver.set_window_size(1200, 800)\n",
    "\n",
    "#구글맵 띄우기\n",
    "driver.get(\"https://www.google.co.kr/maps\")\n",
    "#3초 기다리기\n",
    "driver.implicitly_wait(3)\n",
    "\n",
    "req = requests.get(\"https://www.google.co.kr/maps\")\n",
    "html = req.text #html소스 가져오기, python의 문자열 객체를 반환\n",
    "soup = BeautifulSoup(html, \"html.parser\") #html코드를 python이 이해하는 객체 구조로 변환하는 parsing으로 의미있는 정보 추출 가능"
   ]
  },
  {
   "cell_type": "code",
   "execution_count": 12,
   "metadata": {},
   "outputs": [],
   "source": [
    "# def search():\n",
    "#     #변수 할당\n",
    "#     elem = driver.find_element_by_id(\"searchboxinput\")\n",
    "#     #입력부분 비우기\n",
    "#     elem.clear()\n",
    "#     #검색어 입력\n",
    "#     elem.send_keys('경복궁 주변 공원') #공원, 화장실, 공영주차장, 관광명소, 술집, 쇼핑\n",
    "    \n",
    "#     #검색단추 누르기\n",
    "#     elem = driver.find_element_by_id(\"searchbox-searchbutton\")\n",
    "#     elem.click()"
   ]
  },
  {
   "cell_type": "code",
   "execution_count": 111,
   "metadata": {},
   "outputs": [
    {
     "name": "stdout",
     "output_type": "stream",
     "text": [
      "읍내동 마애불상\n",
      "\n"
     ]
    },
    {
     "data": {
      "text/plain": [
       "3831"
      ]
     },
     "execution_count": 111,
     "metadata": {},
     "output_type": "execute_result"
    }
   ],
   "source": [
    "f = open('placeList.txt', 'r',encoding='UTF8')\n",
    "search_place=[]\n",
    "lines = f.readlines()\n",
    "for line in lines:\n",
    "    search_place.append(line)\n",
    "    f.close()\n",
    "print(search_place[0])\n",
    "len(search_place)"
   ]
  },
  {
   "cell_type": "code",
   "execution_count": 115,
   "metadata": {},
   "outputs": [],
   "source": [
    "import sys\n",
    "\n",
    "f = open('placeList.txt', 'r',encoding='UTF8')\n",
    "search_place=[]\n",
    "lines = f.readlines()\n",
    "for line in lines:\n",
    "    search_place.append(line)\n",
    "    f.close()\n",
    "\n",
    "def crawling1():\n",
    "    search_kor=['공원','정원','관광 명소','술집','쇼핑몰']\n",
    "    a=len(search_kor) \n",
    "    for place in range(0,3831):\n",
    "        for i in range (0,a):\n",
    "            elem = driver.find_element_by_id(\"searchboxinput\") #변수 할당\n",
    "            elem.clear()\n",
    "            elem.send_keys(search_place[place]+'주변'+ search_kor[i])\n",
    "            elem = driver.find_element_by_id(\"searchbox-searchbutton\")\n",
    "            elem.click()\n",
    "            sleep(5)\n",
    "            name=[]\n",
    "\n",
    "            for page in range(1,20,1):\n",
    "                next_button=driver.find_element_by_id('n7lv7yjyC35__section-pagination-button-next')  \n",
    "                try:\n",
    "                    for j in range(1,40,2):\n",
    "                        tag= driver.find_element_by_xpath('/html/body/jsl/div[3]/div[9]/div[8]/div/div[1]/div/div/div[4]/div[1]/div['+ str(j)+']/div[1]/div[1]/div[2]/span[4]')\n",
    "                        if((tag.text==search_kor[i]) and j<39):\n",
    "                            name_=driver.find_element_by_xpath('/html/body/jsl/div[3]/div[9]/div[8]/div/div[1]/div/div/div[4]/div[1]/div['+str(j)+']/div[1]/div[1]/div[1]/div[1]/div[2]/h3/span').text\n",
    "                            name.append(name_)  \n",
    "                \n",
    "                        elif((tag.text==search_kor[i]) and j==39):  #그 페이지의 마지막이라면 \n",
    "                            name_=driver.find_element_by_xpath('/html/body/jsl/div[3]/div[9]/div[8]/div/div[1]/div/div/div[4]/div[1]/div['+str(j)+']/div[1]/div[1]/div[1]/div[1]/div[2]/h3/span').text\n",
    "                            name.append(name_)           \n",
    "                            next_button.click()#다음페이지 버튼을 눌러라. \n",
    "                            sleep(5)\n",
    "                \n",
    "                        elif((tag.text!=search_kor[i]) and j==39):\n",
    "                            next_button.click()#다음페이지 버튼을 눌러라. \n",
    "                            sleep(5)\n",
    "                \n",
    "                except:\n",
    "                    break;\n",
    "            print(name)"
   ]
  },
  {
   "cell_type": "code",
   "execution_count": 116,
   "metadata": {
    "scrolled": false
   },
   "outputs": [
    {
     "ename": "NoSuchElementException",
     "evalue": "Message: no such element: Unable to locate element: {\"method\":\"css selector\",\"selector\":\"[id=\"n7lv7yjyC35__section-pagination-button-next\"]\"}\n  (Session info: chrome=80.0.3987.163)\n",
     "output_type": "error",
     "traceback": [
      "\u001b[1;31m---------------------------------------------------------------------------\u001b[0m",
      "\u001b[1;31mNoSuchElementException\u001b[0m                    Traceback (most recent call last)",
      "\u001b[1;32m<ipython-input-116-3cd63b0146a4>\u001b[0m in \u001b[0;36m<module>\u001b[1;34m\u001b[0m\n\u001b[1;32m----> 1\u001b[1;33m \u001b[0mcrawling1\u001b[0m\u001b[1;33m(\u001b[0m\u001b[1;33m)\u001b[0m\u001b[1;33m\u001b[0m\u001b[1;33m\u001b[0m\u001b[0m\n\u001b[0m",
      "\u001b[1;32m<ipython-input-115-4cf43dcc3f12>\u001b[0m in \u001b[0;36mcrawling1\u001b[1;34m()\u001b[0m\n\u001b[0;32m     20\u001b[0m             \u001b[0msleep\u001b[0m\u001b[1;33m(\u001b[0m\u001b[1;36m5\u001b[0m\u001b[1;33m)\u001b[0m\u001b[1;33m\u001b[0m\u001b[1;33m\u001b[0m\u001b[0m\n\u001b[0;32m     21\u001b[0m             \u001b[0mname\u001b[0m\u001b[1;33m=\u001b[0m\u001b[1;33m[\u001b[0m\u001b[1;33m]\u001b[0m\u001b[1;33m\u001b[0m\u001b[1;33m\u001b[0m\u001b[0m\n\u001b[1;32m---> 22\u001b[1;33m             \u001b[0mnext_button\u001b[0m\u001b[1;33m=\u001b[0m\u001b[0mdriver\u001b[0m\u001b[1;33m.\u001b[0m\u001b[0mfind_element_by_id\u001b[0m\u001b[1;33m(\u001b[0m\u001b[1;34m'n7lv7yjyC35__section-pagination-button-next'\u001b[0m\u001b[1;33m)\u001b[0m\u001b[1;33m\u001b[0m\u001b[1;33m\u001b[0m\u001b[0m\n\u001b[0m\u001b[0;32m     23\u001b[0m \u001b[1;33m\u001b[0m\u001b[0m\n\u001b[0;32m     24\u001b[0m             \u001b[1;32mfor\u001b[0m \u001b[0mpage\u001b[0m \u001b[1;32min\u001b[0m \u001b[0mrange\u001b[0m\u001b[1;33m(\u001b[0m\u001b[1;36m1\u001b[0m\u001b[1;33m,\u001b[0m\u001b[1;36m20\u001b[0m\u001b[1;33m,\u001b[0m\u001b[1;36m1\u001b[0m\u001b[1;33m)\u001b[0m\u001b[1;33m:\u001b[0m\u001b[1;33m\u001b[0m\u001b[1;33m\u001b[0m\u001b[0m\n",
      "\u001b[1;32m~\\Anaconda3\\lib\\site-packages\\selenium\\webdriver\\remote\\webdriver.py\u001b[0m in \u001b[0;36mfind_element_by_id\u001b[1;34m(self, id_)\u001b[0m\n\u001b[0;32m    358\u001b[0m             \u001b[0melement\u001b[0m \u001b[1;33m=\u001b[0m \u001b[0mdriver\u001b[0m\u001b[1;33m.\u001b[0m\u001b[0mfind_element_by_id\u001b[0m\u001b[1;33m(\u001b[0m\u001b[1;34m'foo'\u001b[0m\u001b[1;33m)\u001b[0m\u001b[1;33m\u001b[0m\u001b[1;33m\u001b[0m\u001b[0m\n\u001b[0;32m    359\u001b[0m         \"\"\"\n\u001b[1;32m--> 360\u001b[1;33m         \u001b[1;32mreturn\u001b[0m \u001b[0mself\u001b[0m\u001b[1;33m.\u001b[0m\u001b[0mfind_element\u001b[0m\u001b[1;33m(\u001b[0m\u001b[0mby\u001b[0m\u001b[1;33m=\u001b[0m\u001b[0mBy\u001b[0m\u001b[1;33m.\u001b[0m\u001b[0mID\u001b[0m\u001b[1;33m,\u001b[0m \u001b[0mvalue\u001b[0m\u001b[1;33m=\u001b[0m\u001b[0mid_\u001b[0m\u001b[1;33m)\u001b[0m\u001b[1;33m\u001b[0m\u001b[1;33m\u001b[0m\u001b[0m\n\u001b[0m\u001b[0;32m    361\u001b[0m \u001b[1;33m\u001b[0m\u001b[0m\n\u001b[0;32m    362\u001b[0m     \u001b[1;32mdef\u001b[0m \u001b[0mfind_elements_by_id\u001b[0m\u001b[1;33m(\u001b[0m\u001b[0mself\u001b[0m\u001b[1;33m,\u001b[0m \u001b[0mid_\u001b[0m\u001b[1;33m)\u001b[0m\u001b[1;33m:\u001b[0m\u001b[1;33m\u001b[0m\u001b[1;33m\u001b[0m\u001b[0m\n",
      "\u001b[1;32m~\\Anaconda3\\lib\\site-packages\\selenium\\webdriver\\remote\\webdriver.py\u001b[0m in \u001b[0;36mfind_element\u001b[1;34m(self, by, value)\u001b[0m\n\u001b[0;32m    976\u001b[0m         return self.execute(Command.FIND_ELEMENT, {\n\u001b[0;32m    977\u001b[0m             \u001b[1;34m'using'\u001b[0m\u001b[1;33m:\u001b[0m \u001b[0mby\u001b[0m\u001b[1;33m,\u001b[0m\u001b[1;33m\u001b[0m\u001b[1;33m\u001b[0m\u001b[0m\n\u001b[1;32m--> 978\u001b[1;33m             'value': value})['value']\n\u001b[0m\u001b[0;32m    979\u001b[0m \u001b[1;33m\u001b[0m\u001b[0m\n\u001b[0;32m    980\u001b[0m     \u001b[1;32mdef\u001b[0m \u001b[0mfind_elements\u001b[0m\u001b[1;33m(\u001b[0m\u001b[0mself\u001b[0m\u001b[1;33m,\u001b[0m \u001b[0mby\u001b[0m\u001b[1;33m=\u001b[0m\u001b[0mBy\u001b[0m\u001b[1;33m.\u001b[0m\u001b[0mID\u001b[0m\u001b[1;33m,\u001b[0m \u001b[0mvalue\u001b[0m\u001b[1;33m=\u001b[0m\u001b[1;32mNone\u001b[0m\u001b[1;33m)\u001b[0m\u001b[1;33m:\u001b[0m\u001b[1;33m\u001b[0m\u001b[1;33m\u001b[0m\u001b[0m\n",
      "\u001b[1;32m~\\Anaconda3\\lib\\site-packages\\selenium\\webdriver\\remote\\webdriver.py\u001b[0m in \u001b[0;36mexecute\u001b[1;34m(self, driver_command, params)\u001b[0m\n\u001b[0;32m    319\u001b[0m         \u001b[0mresponse\u001b[0m \u001b[1;33m=\u001b[0m \u001b[0mself\u001b[0m\u001b[1;33m.\u001b[0m\u001b[0mcommand_executor\u001b[0m\u001b[1;33m.\u001b[0m\u001b[0mexecute\u001b[0m\u001b[1;33m(\u001b[0m\u001b[0mdriver_command\u001b[0m\u001b[1;33m,\u001b[0m \u001b[0mparams\u001b[0m\u001b[1;33m)\u001b[0m\u001b[1;33m\u001b[0m\u001b[1;33m\u001b[0m\u001b[0m\n\u001b[0;32m    320\u001b[0m         \u001b[1;32mif\u001b[0m \u001b[0mresponse\u001b[0m\u001b[1;33m:\u001b[0m\u001b[1;33m\u001b[0m\u001b[1;33m\u001b[0m\u001b[0m\n\u001b[1;32m--> 321\u001b[1;33m             \u001b[0mself\u001b[0m\u001b[1;33m.\u001b[0m\u001b[0merror_handler\u001b[0m\u001b[1;33m.\u001b[0m\u001b[0mcheck_response\u001b[0m\u001b[1;33m(\u001b[0m\u001b[0mresponse\u001b[0m\u001b[1;33m)\u001b[0m\u001b[1;33m\u001b[0m\u001b[1;33m\u001b[0m\u001b[0m\n\u001b[0m\u001b[0;32m    322\u001b[0m             response['value'] = self._unwrap_value(\n\u001b[0;32m    323\u001b[0m                 response.get('value', None))\n",
      "\u001b[1;32m~\\Anaconda3\\lib\\site-packages\\selenium\\webdriver\\remote\\errorhandler.py\u001b[0m in \u001b[0;36mcheck_response\u001b[1;34m(self, response)\u001b[0m\n\u001b[0;32m    240\u001b[0m                 \u001b[0malert_text\u001b[0m \u001b[1;33m=\u001b[0m \u001b[0mvalue\u001b[0m\u001b[1;33m[\u001b[0m\u001b[1;34m'alert'\u001b[0m\u001b[1;33m]\u001b[0m\u001b[1;33m.\u001b[0m\u001b[0mget\u001b[0m\u001b[1;33m(\u001b[0m\u001b[1;34m'text'\u001b[0m\u001b[1;33m)\u001b[0m\u001b[1;33m\u001b[0m\u001b[1;33m\u001b[0m\u001b[0m\n\u001b[0;32m    241\u001b[0m             \u001b[1;32mraise\u001b[0m \u001b[0mexception_class\u001b[0m\u001b[1;33m(\u001b[0m\u001b[0mmessage\u001b[0m\u001b[1;33m,\u001b[0m \u001b[0mscreen\u001b[0m\u001b[1;33m,\u001b[0m \u001b[0mstacktrace\u001b[0m\u001b[1;33m,\u001b[0m \u001b[0malert_text\u001b[0m\u001b[1;33m)\u001b[0m\u001b[1;33m\u001b[0m\u001b[1;33m\u001b[0m\u001b[0m\n\u001b[1;32m--> 242\u001b[1;33m         \u001b[1;32mraise\u001b[0m \u001b[0mexception_class\u001b[0m\u001b[1;33m(\u001b[0m\u001b[0mmessage\u001b[0m\u001b[1;33m,\u001b[0m \u001b[0mscreen\u001b[0m\u001b[1;33m,\u001b[0m \u001b[0mstacktrace\u001b[0m\u001b[1;33m)\u001b[0m\u001b[1;33m\u001b[0m\u001b[1;33m\u001b[0m\u001b[0m\n\u001b[0m\u001b[0;32m    243\u001b[0m \u001b[1;33m\u001b[0m\u001b[0m\n\u001b[0;32m    244\u001b[0m     \u001b[1;32mdef\u001b[0m \u001b[0m_value_or_default\u001b[0m\u001b[1;33m(\u001b[0m\u001b[0mself\u001b[0m\u001b[1;33m,\u001b[0m \u001b[0mobj\u001b[0m\u001b[1;33m,\u001b[0m \u001b[0mkey\u001b[0m\u001b[1;33m,\u001b[0m \u001b[0mdefault\u001b[0m\u001b[1;33m)\u001b[0m\u001b[1;33m:\u001b[0m\u001b[1;33m\u001b[0m\u001b[1;33m\u001b[0m\u001b[0m\n",
      "\u001b[1;31mNoSuchElementException\u001b[0m: Message: no such element: Unable to locate element: {\"method\":\"css selector\",\"selector\":\"[id=\"n7lv7yjyC35__section-pagination-button-next\"]\"}\n  (Session info: chrome=80.0.3987.163)\n"
     ]
    }
   ],
   "source": [
    "crawling1()"
   ]
  },
  {
   "cell_type": "code",
   "execution_count": 47,
   "metadata": {},
   "outputs": [],
   "source": [
    "import sys\n",
    "\n",
    "def crawling2():\n",
    "    search_kor=['공중화장실','공영주차장','주차장']\n",
    "    a=len(search_kor)    \n",
    "    for i in range (0,a):\n",
    "        elem = driver.find_element_by_id(\"searchboxinput\") #변수 할당\n",
    "        elem.clear()\n",
    "        elem.send_keys('경복궁 주변'+ search_kor[i])\n",
    "        elem = driver.find_element_by_id(\"searchbox-searchbutton\")\n",
    "        elem.click()\n",
    "        sleep(5)\n",
    "        \n",
    "        name=[]\n",
    "        next_button=driver.find_element_by_id('n7lv7yjyC35__section-pagination-button-next')  \n",
    "        \n",
    "        for page in range(1,10,1):\n",
    "            try:\n",
    "                for j in range(1,40,2):\n",
    "                    tag= driver.find_element_by_xpath('/html/body/jsl/div[3]/div[9]/div[8]/div/div[1]/div/div/div[2]/div[1]/div['+ str(j)+']/div[1]/div[1]/div[2]/span[4]')\n",
    "                    if((tag.text==search_kor[i]) and j<39):\n",
    "                        name_=driver.find_element_by_xpath('/html/body/jsl/div[3]/div[9]/div[8]/div/div[1]/div/div/div[2]/div[1]/div['+str(j)+']/div[1]/div[1]/div[1]/div[1]/div[2]/h3/span').text\n",
    "                        name.append(name_)      \n",
    "                        \n",
    "                    elif((tag.text==search_kor[i]) and j==39):  #그 페이지의 마지막이라면 \n",
    "                        name_=driver.find_element_by_xpath('/html/body/jsl/div[3]/div[9]/div[8]/div/div[1]/div/div/div[2]/div[1]/div['+str(j)+']/div[1]/div[1]/div[1]/div[1]/div[2]/h3/span').text\n",
    "                        name.append(name_)           \n",
    "                        next_button.click()#다음페이지 버튼을 눌러라. \n",
    "                        sleep(5)\n",
    "                \n",
    "                    elif((tag.text!=search_kor[i]) and j==39):\n",
    "                        next_button.click()#다음페이지 버튼을 눌러라. \n",
    "                        sleep(5)       \n",
    "            except:\n",
    "                break;\n",
    "        print(name)"
   ]
  },
  {
   "cell_type": "code",
   "execution_count": 48,
   "metadata": {},
   "outputs": [
    {
     "name": "stdout",
     "output_type": "stream",
     "text": [
      "['공중화장실 인사동', '공중화장실 인사동북측입구무인자동', '공중화장실 춘추관주차장', '공중화장실 누상동', '공중화장실 세종문화회관무인자동', '공중화장실 창경궁', '공중화장실 청계천삼일교무인자동', '공중화장실 정동근린공원', '공중화장실 종각제일은행무인자동', '공중화장실 배재공원', '공중화장실 카톨릭회관무인자동', '공중화장실 정보통신부무인자동', '공중화장실 조선일보사무인자동', '공중화장실 인왕산등산로입구', '공중화장실 인왕산수목원약수터', '공중화장실 중림동', '공중화장실 을지로입구무인자동', '공중화장실 청계천관수교무인자동', '공중화장실 서대문역무인자동', '공중화장실 영천', '공중화장실 종로3가무인자동', '공중화장실 서소문근린공원', '공중화장실 성북성터', '공중화장실 묵정공원', '공중화장실 현저', '공중화장실 경찰청무인자동', '공중화장실 남대문시장입구1무인자동', '민간개방화장실 세인빌딩']\n",
      "['서인사마당 공영주차장']\n",
      "['광화문빌딩앞공영주차장', '서인사마당공영주차장', '적선노외주차장', '종로주차장', '삼청동1층공영주차장', '관훈주차장', '경복궁 주차장', '끄레아', '낙원상가주차장', '탑골공원앞공영주차장', '종각앞공영주차장', '창덕궁주차장', '원서공원앞공영주차장']\n"
     ]
    }
   ],
   "source": [
    "crawling2()"
   ]
  },
  {
   "cell_type": "code",
   "execution_count": null,
   "metadata": {},
   "outputs": [],
   "source": []
  }
 ],
 "metadata": {
  "kernelspec": {
   "display_name": "Python 3",
   "language": "python",
   "name": "python3"
  },
  "language_info": {
   "codemirror_mode": {
    "name": "ipython",
    "version": 3
   },
   "file_extension": ".py",
   "mimetype": "text/x-python",
   "name": "python",
   "nbconvert_exporter": "python",
   "pygments_lexer": "ipython3",
   "version": "3.7.6"
  }
 },
 "nbformat": 4,
 "nbformat_minor": 4
}
