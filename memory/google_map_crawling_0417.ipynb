{
 "cells": [
  {
   "cell_type": "code",
   "execution_count": 12,
   "metadata": {},
   "outputs": [],
   "source": [
    "# def search():\n",
    "#     #변수 할당\n",
    "#     elem = driver.find_element_by_id(\"searchboxinput\")\n",
    "#     #입력부분 비우기\n",
    "#     elem.clear()\n",
    "#     #검색어 입력\n",
    "#     elem.send_keys('경복궁 주변 공원') #공원, 화장실, 공영주차장, 관광명소, 술집, 쇼핑\n",
    "    \n",
    "#     #검색단추 누르기\n",
    "#     elem = driver.find_element_by_id(\"searchbox-searchbutton\")\n",
    "#     elem.click()\n",
    "/html/body/jsl/div[3]/div[9]/div[8]/div/div[1]/div/div/div[4]/div[1]/div[1]/div[1]/div[1]\n",
    "/html/body/jsl/div[3]/div[9]/div[8]/div/div[1]/div/div/div[4]/div[1]/div[3]/div[1]/div[1]"
   ]
  },
  {
   "cell_type": "code",
   "execution_count": 2,
   "metadata": {},
   "outputs": [
    {
     "name": "stdout",
     "output_type": "stream",
     "text": [
      "읍내동 마애불상\n",
      "\n"
     ]
    },
    {
     "data": {
      "text/plain": [
       "3831"
      ]
     },
     "execution_count": 2,
     "metadata": {},
     "output_type": "execute_result"
    }
   ],
   "source": [
    "f = open('placeList.txt', 'r',encoding='UTF8')\n",
    "search_place=[]\n",
    "lines = f.readlines()\n",
    "for line in lines:\n",
    "    search_place.append(line)\n",
    "    f.close()\n",
    "print(search_place[0])\n",
    "len(search_place)"
   ]
  },
  {
   "cell_type": "code",
   "execution_count": 18,
   "metadata": {},
   "outputs": [],
   "source": [
    "elem = driver.find_element_by_id(\"searchboxinput\") #변수 할당\n",
    "elem.clear()\n",
    "elem.send_keys('읍내동 마애불상')\n",
    "elem = driver.find_element_by_id(\"searchbox-searchbutton\")  #검색버튼\n",
    "elem.click()\n"
   ]
  },
  {
   "cell_type": "code",
   "execution_count": 29,
   "metadata": {},
   "outputs": [
    {
     "data": {
      "text/plain": [
       "'Google 지도에서 읍내동 마애불상을(를) 찾을 수 없습니다.'"
      ]
     },
     "execution_count": 29,
     "metadata": {},
     "output_type": "execute_result"
    }
   ],
   "source": [
    "a.text"
   ]
  },
  {
   "cell_type": "code",
   "execution_count": 2,
   "metadata": {},
   "outputs": [],
   "source": [
    "# import sys\n",
    "\n",
    "# f = open('placeList.txt', 'r',encoding='UTF8')\n",
    "# search_place=[]\n",
    "# lines = f.readlines()\n",
    "# for line in lines:\n",
    "#     search_place.append(line)\n",
    "#     f.close()\n",
    "\n",
    "# def crawling1():\n",
    "#     search_kor=['공원','정원','관광 명소','술집','쇼핑몰']\n",
    "#     a=len(search_kor) \n",
    "    \n",
    "        \n",
    "#     for place in range(0,3831):  #장소\n",
    "#         f=open(\"result.csv\",'w',encoding=\"UTF-8\")\n",
    "#         elem = driver.find_element_by_id(\"searchboxinput\") #변수 할당\n",
    "#         elem.clear()\n",
    "# #             elem.send_keys(search_place[place]+'주변' + search_kor[i])\n",
    "#         elem.send_keys(search_place[place])  #장소 검색\n",
    "#         elem = driver.find_element_by_id(\"searchbox-searchbutton\")  #검색버튼\n",
    "#         elem.click()\n",
    "#         sleep(5)\n",
    "#         name=[]\n",
    "#         error=driver.find_element_by_xpath('/html/body/jsl/div[3]/div[9]/div[8]/div/div[1]/div/div/div[2]/div[1]/div[1]')\n",
    "            \n",
    "#         if(error.text=='Google 지도에서'+ search_place[place]+'을(를) 찾을 수 없습니다.'):#장소가 없으면\n",
    "# #                  name.append('NULL')\n",
    "#             f.write(search_place[place] + ',' + 'NULL' + '\\n')  #NULL을 넣어라\n",
    "\n",
    "                \n",
    "#         else:\n",
    "#             for i in range (0,a):   #종류별\n",
    "#                 elem = driver.find_element_by_id(\"searchboxinput\") #변수 할당\n",
    "#                 elem.clear()\n",
    "#                 elem.send_keys(search_place[place]+'주변' + search_kor[i])  #장소+종류검색\n",
    "#                 elem = driver.find_element_by_id(\"searchbox-searchbutton\")  #검색버튼\n",
    "#                 elem.click()\n",
    "#                 sleep(5)\n",
    "#                 for page in range(1,10,1):  #페이지 수\n",
    "#                     try:\n",
    "#                         for j in range(1,40,2):   #한페이지 크롤링\n",
    "#                             tag= driver.find_element_by_xpath('/html/body/jsl/div[3]/div[9]/div[8]/div/div[1]/div/div/div[4]/div[1]/div['+ str(j)+']/div[1]/div[1]/div[2]/span[4]')\n",
    "#                             if((tag.text==search_kor[i]) and j<39):\n",
    "#                                 name_=driver.find_element_by_xpath('/html/body/jsl/div[3]/div[9]/div[8]/div/div[1]/div/div/div[4]/div[1]/div['+str(j)+']/div[1]/div[1]/div[1]/div[1]/div[2]/h3/span').text\n",
    "# #                                 name.append(name_)  \n",
    "#                                 f.write(search_place[place] + ',' + name_ + '\\n')\n",
    "                \n",
    "#                             elif((tag.text==search_kor[i]) and j==39):  #그 페이지의 마지막이라면 \n",
    "#                                 name_=driver.find_element_by_xpath('/html/body/jsl/div[3]/div[9]/div[8]/div/div[1]/div/div/div[4]/div[1]/div['+str(j)+']/div[1]/div[1]/div[1]/div[1]/div[2]/h3/span').text\n",
    "# #                                 name.append(name_)   \n",
    "#                                 f.write(search_place[place] + ',' + name_ + '\\n')\n",
    "#                                 next_button=driver.find_element_by_id('n7lv7yjyC35__section-pagination-button-next')  \n",
    "#                                 next_button.click()#다음페이지 버튼을 눌러라. \n",
    "#                                 sleep(5)\n",
    "            \n",
    "#                             elif((tag.text!=search_kor[i]) and j==39):\n",
    "#                                 next_button=driver.find_element_by_id('n7lv7yjyC35__section-pagination-button-next')  \n",
    "#                                 next_button.click()#다음페이지 버튼을 눌러라. \n",
    "#                                 sleep(5)\n",
    "                \n",
    "#                     except:\n",
    "#                          break\n",
    "                \n",
    "# #             print(name)\n"
   ]
  },
  {
   "cell_type": "code",
   "execution_count": 4,
   "metadata": {},
   "outputs": [],
   "source": [
    "#패키지 import\n",
    "from selenium import webdriver\n",
    "from bs4 import BeautifulSoup\n",
    "from time import sleep\n",
    "import requests\n",
    "import re\n",
    "\n",
    "driver = webdriver.Chrome(executable_path=\"C:/Users/jmlee/Code/chromedriver_win32/chromedriver.exe\")\n",
    "driver.set_window_size(1200, 800)\n",
    "\n",
    "#구글맵 띄우기\n",
    "driver.get(\"https://www.google.co.kr/maps\")\n",
    "#3초 기다리기\n",
    "driver.implicitly_wait(3)\n",
    "\n",
    "req = requests.get(\"https://www.google.co.kr/maps\")\n",
    "html = req.text #html소스 가져오기, python의 문자열 객체를 반환\n",
    "soup = BeautifulSoup(html, \"html.parser\") #html코드를 python이 이해하는 객체 구조로 변환하는 parsing으로 의미있는 정보 추출 가능"
   ]
  },
  {
   "cell_type": "code",
   "execution_count": null,
   "metadata": {},
   "outputs": [],
   "source": [
    "import sys\n",
    "import csv\n",
    "\n",
    "\n",
    "#csv저장\n",
    "f_ = open(\"result.csv\", \"w\")\n",
    "# 수집한 데이터가 어떤 데이터인 header를 넣어주는 것이 중요하다.\n",
    "f_.write(\"문화유산지, 이름, 종류, 위치\\n\")\n",
    "name=['a','b','c']\n",
    "for i in range(0,3):\n",
    "    f.write(\"경복궁\"+\",\"+name[i]+\",\"+\"카페\"+\",\"+\"위치\"+\"\\n\")\n",
    "f.close()\n",
    "\n",
    "\n",
    "f = open('placeList.txt', 'r',encoding='UTF8')\n",
    "search_place=[]\n",
    "lines = f.readlines()\n",
    "for line in lines:\n",
    "    search_place.append(line)\n",
    "    f.close()\n",
    "#검색안되는 장소는 바로 -1 대입하고 끝내버리기. csv에 저장 \n",
    "\n",
    "def crawling1():\n",
    "    search_kor=['공원','정원','휴양림','관광 명소','술집','쇼핑몰']\n",
    "    a=len(search_kor) \n",
    "    for place in range(0,3831):  #장소\n",
    "        elem = driver.find_element_by_id(\"searchboxinput\") #변수 할당\n",
    "        elem.clear()       \n",
    "        elem.send_keys(search_place[place])  #장소 검색\n",
    "        elem = driver.find_element_by_id(\"searchbox-searchbutton\")  #검색버튼\n",
    "        elem.click()\n",
    "        sleep(5)\n",
    "        all_=[]\n",
    "        try:\n",
    "            if(driver.find_element_by_class_name(\"section-bad-query\")):  #장소가 존재하지 않으면\n",
    "                all_.append(-1)  #csv에 위치, -1 저장으로 바꾸기\n",
    "            \n",
    "        except:\n",
    "            for i in range (0,a):           #종류별\n",
    "                try: #없으면 -1 넣어라\n",
    "                    name=[]  \n",
    "#                 position=[]\n",
    "                    elem = driver.find_element_by_id(\"searchboxinput\") #변수 할당\n",
    "                    elem.clear()\n",
    "                    elem.send_keys(search_place[place]+ '주변' + search_kor[i])  #장소+종류검색\n",
    "                    elem = driver.find_element_by_id(\"searchbox-searchbutton\")  #검색버튼\n",
    "                    elem.click()\n",
    "                    sleep(5)\n",
    "                \n",
    "                    for page in range(1,10,1):  #페이지 수\n",
    "                        for j in range(1,40,2):   #한페이지 크롤링\n",
    "                            try:    #index가 40까지 안가면 끊어라\n",
    "                                tag= driver.find_element_by_xpath('/html/body/jsl/div[3]/div[9]/div[8]/div/div[1]/div/div/div[4]/div[1]/div['+ str(j)+']/div[1]/div[1]/div[2]/span[4]')\n",
    "                                if((tag.text==search_kor[i]) and j<39):\n",
    "                                    name_=driver.find_element_by_xpath('/html/body/jsl/div[3]/div[9]/div[8]/div/div[1]/div/div/div[4]/div[1]/div['+str(j)+']/div[1]/div[1]/div[1]/div[1]/div[2]/h3/span').text\n",
    "                                    name.append(name_)\n",
    "#                                 button_=driver.find_element_by_xpath('/html/body/jsl/div[3]/div[9]/div[8]/div/div[1]/div/div/div[4]/div[1]/div['+str(j)+']/div[1]/div[1]')\n",
    "#                                 button_.click()\n",
    "#                                 sleep(3)\n",
    "#                                 position_=driver.find_element_by_xpath('/html/body/jsl/div[3]/div[9]/div[8]/div/div[1]/div/div/div[10]/div/div[1]/span[3]/span[3]').text\n",
    "#                                 position.append(position_) \n",
    "#                                 button_back=driver,find_element_by_xpath('/html/body/jsl/div[3]/div[9]/div[8]/div/div[1]/div/div/button')\n",
    "                                    sleep(5)\n",
    "#                             print(name_)\n",
    "                \n",
    "                                elif((tag.text==search_kor[i]) and j==39):  #그 페이지의 마지막이라면 \n",
    "                                    name_=driver.find_element_by_xpath('/html/body/jsl/div[3]/div[9]/div[8]/div/div[1]/div/div/div[4]/div[1]/div['+str(j)+']/div[1]/div[1]/div[1]/div[1]/div[2]/h3/span').text\n",
    "                                    name.append(name_)\n",
    "#                                 button_=driver.find_element_by_xpath('/html/body/jsl/div[3]/div[9]/div[8]/div/div[1]/div/div/div[4]/div[1]/div['+str(j)+']/div[1]/div[1]')\n",
    "#                                 button_.click()\n",
    "#                                 sleep(3)\n",
    "#                                 position_=driver.find_element_by_xpath('/html/body/jsl/div[3]/div[9]/div[8]/div/div[1]/div/div/div[10]/div/div[1]/span[3]/span[3]').text\n",
    "#                                 position.append(position_)  \n",
    "                                    next_button=driver.find_element_by_id('n7lv7yjyC35__section-pagination-button-next')  \n",
    "                                    next_button.click()#다음페이지 버튼을 눌러라. \n",
    "                                    sleep(5)\n",
    "#                             print(name_)\n",
    "            \n",
    "                                elif((tag.text!=search_kor[i]) and j==39):\n",
    "                                    next_button=driver.find_element_by_id('n7lv7yjyC35__section-pagination-button-next')  \n",
    "                                    next_button.click()#다음페이지 버튼을 눌러라. \n",
    "                                    sleep(5) \n",
    "                        except:\n",
    "                            name.append(-1)\n",
    "                            \n",
    "                except:\n",
    "                    break\n",
    "                print(name)\n",
    "#             print(position)"
   ]
  },
  {
   "cell_type": "code",
   "execution_count": null,
   "metadata": {
    "scrolled": true
   },
   "outputs": [],
   "source": [
    "crawling1()"
   ]
  },
  {
   "cell_type": "code",
   "execution_count": 8,
   "metadata": {},
   "outputs": [],
   "source": [
    "#csv저장\n",
    "f = open(\"result.csv\", \"w\")\n",
    " \n",
    "# 수집한 데이터가 어떤 데이터인 header를 넣어주는 것이 중요하다.\n",
    "f.write(\"문화유산지, 이름, 종류, 위치\\n\")\n",
    "\n",
    "name=['a','b','c']\n",
    "for i in range(0,3):\n",
    "    f.write(\"경복궁\"+\",\"+name[i]+\",\"+\"카페\"+\",\"+\"위치\"+\"\\n\")\n",
    " \n",
    " \n",
    "f.close()\n"
   ]
  },
  {
   "cell_type": "code",
   "execution_count": 47,
   "metadata": {},
   "outputs": [],
   "source": [
    "import sys\n",
    "\n",
    "def crawling2():\n",
    "    search_kor=['공중화장실','공영주차장','주차장']\n",
    "    a=len(search_kor)    \n",
    "    for i in range (0,a):\n",
    "        elem = driver.find_element_by_id(\"searchboxinput\") #변수 할당\n",
    "        elem.clear()\n",
    "        elem.send_keys('경복궁 주변'+ search_kor[i])\n",
    "        elem = driver.find_element_by_id(\"searchbox-searchbutton\")\n",
    "        elem.click()\n",
    "        sleep(5)\n",
    "        \n",
    "        name=[]\n",
    "        next_button=driver.find_element_by_id('n7lv7yjyC35__section-pagination-button-next')  \n",
    "        \n",
    "        for page in range(1,10,1):\n",
    "            try:\n",
    "                for j in range(1,40,2):\n",
    "                    tag= driver.find_element_by_xpath('/html/body/jsl/div[3]/div[9]/div[8]/div/div[1]/div/div/div[2]/div[1]/div['+ str(j)+']/div[1]/div[1]/div[2]/span[4]')\n",
    "                    if((tag.text==search_kor[i]) and j<39):\n",
    "                        name_=driver.find_element_by_xpath('/html/body/jsl/div[3]/div[9]/div[8]/div/div[1]/div/div/div[2]/div[1]/div['+str(j)+']/div[1]/div[1]/div[1]/div[1]/div[2]/h3/span').text\n",
    "                        name.append(name_)      \n",
    "                        \n",
    "                    elif((tag.text==search_kor[i]) and j==39):  #그 페이지의 마지막이라면 \n",
    "                        name_=driver.find_element_by_xpath('/html/body/jsl/div[3]/div[9]/div[8]/div/div[1]/div/div/div[2]/div[1]/div['+str(j)+']/div[1]/div[1]/div[1]/div[1]/div[2]/h3/span').text\n",
    "                        name.append(name_)           \n",
    "                        next_button.click()#다음페이지 버튼을 눌러라. \n",
    "                        sleep(5)\n",
    "                \n",
    "                    elif((tag.text!=search_kor[i]) and j==39):\n",
    "                        next_button.click()#다음페이지 버튼을 눌러라. \n",
    "                        sleep(5)       \n",
    "            except:\n",
    "                break;\n",
    "        print(name)"
   ]
  },
  {
   "cell_type": "code",
   "execution_count": 48,
   "metadata": {},
   "outputs": [
    {
     "name": "stdout",
     "output_type": "stream",
     "text": [
      "['공중화장실 인사동', '공중화장실 인사동북측입구무인자동', '공중화장실 춘추관주차장', '공중화장실 누상동', '공중화장실 세종문화회관무인자동', '공중화장실 창경궁', '공중화장실 청계천삼일교무인자동', '공중화장실 정동근린공원', '공중화장실 종각제일은행무인자동', '공중화장실 배재공원', '공중화장실 카톨릭회관무인자동', '공중화장실 정보통신부무인자동', '공중화장실 조선일보사무인자동', '공중화장실 인왕산등산로입구', '공중화장실 인왕산수목원약수터', '공중화장실 중림동', '공중화장실 을지로입구무인자동', '공중화장실 청계천관수교무인자동', '공중화장실 서대문역무인자동', '공중화장실 영천', '공중화장실 종로3가무인자동', '공중화장실 서소문근린공원', '공중화장실 성북성터', '공중화장실 묵정공원', '공중화장실 현저', '공중화장실 경찰청무인자동', '공중화장실 남대문시장입구1무인자동', '민간개방화장실 세인빌딩']\n",
      "['서인사마당 공영주차장']\n",
      "['광화문빌딩앞공영주차장', '서인사마당공영주차장', '적선노외주차장', '종로주차장', '삼청동1층공영주차장', '관훈주차장', '경복궁 주차장', '끄레아', '낙원상가주차장', '탑골공원앞공영주차장', '종각앞공영주차장', '창덕궁주차장', '원서공원앞공영주차장']\n"
     ]
    }
   ],
   "source": [
    "crawling2()"
   ]
  },
  {
   "cell_type": "code",
   "execution_count": 53,
   "metadata": {},
   "outputs": [
    {
     "name": "stdout",
     "output_type": "stream",
     "text": [
      "a\n"
     ]
    }
   ],
   "source": [
    "elem = driver.find_element_by_id(\"searchboxinput\") #변수 할당\n",
    "elem.clear()       \n",
    "elem.send_keys('읍내동 마애불상')  #장소 검색\n",
    "elem = driver.find_element_by_id(\"searchbox-searchbutton\")  #검색버튼\n",
    "elem.click()\n",
    "sleep(5)\n",
    "\n",
    "# result=driver.find_element_by_xpath(\"/html/body/jsl/div[3]/div[9]/div[8]/div/div[1]/div/div/div[2]\")\n",
    "# # if(result[\"class\"]==\"section-bad-query\"):\n",
    "# #     print('error')\n",
    "# print(result[\"class\"])\n",
    "if(driver.find_element_by_class_name(\"section-bad-query\")):\n",
    "    print('a')"
   ]
  },
  {
   "cell_type": "code",
   "execution_count": null,
   "metadata": {},
   "outputs": [],
   "source": []
  }
 ],
 "metadata": {
  "kernelspec": {
   "display_name": "Python 3",
   "language": "python",
   "name": "python3"
  },
  "language_info": {
   "codemirror_mode": {
    "name": "ipython",
    "version": 3
   },
   "file_extension": ".py",
   "mimetype": "text/x-python",
   "name": "python",
   "nbconvert_exporter": "python",
   "pygments_lexer": "ipython3",
   "version": "3.7.6"
  }
 },
 "nbformat": 4,
 "nbformat_minor": 4
}
