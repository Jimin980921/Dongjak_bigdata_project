{
 "cells": [
  {
   "cell_type": "code",
   "execution_count": 1,
   "metadata": {},
   "outputs": [],
   "source": [
    "import pandas as pd\n",
    "from pandas import DataFrame\n",
    "from pandas import Series\n",
    "import numpy as np"
   ]
  },
  {
   "cell_type": "code",
   "execution_count": 2,
   "metadata": {},
   "outputs": [],
   "source": [
    "data = pd.read_csv('full_data.csv',encoding='cp949')"
   ]
  },
  {
   "cell_type": "code",
   "execution_count": 3,
   "metadata": {},
   "outputs": [],
   "source": [
    "df = DataFrame(data)"
   ]
  },
  {
   "cell_type": "code",
   "execution_count": 4,
   "metadata": {},
   "outputs": [
    {
     "data": {
      "text/plain": [
       "pandas.core.frame.DataFrame"
      ]
     },
     "execution_count": 4,
     "metadata": {},
     "output_type": "execute_result"
    }
   ],
   "source": [
    "type(df)"
   ]
  },
  {
   "cell_type": "code",
   "execution_count": 5,
   "metadata": {
    "scrolled": true
   },
   "outputs": [
    {
     "data": {
      "text/html": [
       "<div>\n",
       "<style scoped>\n",
       "    .dataframe tbody tr th:only-of-type {\n",
       "        vertical-align: middle;\n",
       "    }\n",
       "\n",
       "    .dataframe tbody tr th {\n",
       "        vertical-align: top;\n",
       "    }\n",
       "\n",
       "    .dataframe thead th {\n",
       "        text-align: right;\n",
       "    }\n",
       "</style>\n",
       "<table border=\"1\" class=\"dataframe\">\n",
       "  <thead>\n",
       "    <tr style=\"text-align: right;\">\n",
       "      <th></th>\n",
       "      <th>place_name</th>\n",
       "      <th>tour_element</th>\n",
       "      <th>tour_element_name</th>\n",
       "    </tr>\n",
       "  </thead>\n",
       "  <tbody>\n",
       "    <tr>\n",
       "      <th>0</th>\n",
       "      <td>해동 용궁사</td>\n",
       "      <td>음식점</td>\n",
       "      <td>부엌우동집</td>\n",
       "    </tr>\n",
       "    <tr>\n",
       "      <th>1</th>\n",
       "      <td>해동 용궁사</td>\n",
       "      <td>음식점</td>\n",
       "      <td>명품물회</td>\n",
       "    </tr>\n",
       "    <tr>\n",
       "      <th>2</th>\n",
       "      <td>해동 용궁사</td>\n",
       "      <td>음식점</td>\n",
       "      <td>셰프뮤지엄718</td>\n",
       "    </tr>\n",
       "    <tr>\n",
       "      <th>3</th>\n",
       "      <td>해동 용궁사</td>\n",
       "      <td>음식점</td>\n",
       "      <td>기장곰장어</td>\n",
       "    </tr>\n",
       "    <tr>\n",
       "      <th>4</th>\n",
       "      <td>해동 용궁사</td>\n",
       "      <td>음식점</td>\n",
       "      <td>셰프뮤지엄718 루이키친</td>\n",
       "    </tr>\n",
       "    <tr>\n",
       "      <th>...</th>\n",
       "      <td>...</td>\n",
       "      <td>...</td>\n",
       "      <td>...</td>\n",
       "    </tr>\n",
       "    <tr>\n",
       "      <th>55231</th>\n",
       "      <td>강화 고인돌 유적</td>\n",
       "      <td>쇼핑</td>\n",
       "      <td>교원웰스정수기</td>\n",
       "    </tr>\n",
       "    <tr>\n",
       "      <th>55232</th>\n",
       "      <td>강화 고인돌 유적</td>\n",
       "      <td>쇼핑</td>\n",
       "      <td>강화유리(KCC)현관방충망창문베란다유리집시공</td>\n",
       "    </tr>\n",
       "    <tr>\n",
       "      <th>55233</th>\n",
       "      <td>강화 고인돌 유적</td>\n",
       "      <td>쇼핑</td>\n",
       "      <td>암막커텐롤스크린자바라출장상담</td>\n",
       "    </tr>\n",
       "    <tr>\n",
       "      <th>55234</th>\n",
       "      <td>강화 고인돌 유적</td>\n",
       "      <td>쇼핑</td>\n",
       "      <td>교원웰스정수기</td>\n",
       "    </tr>\n",
       "    <tr>\n",
       "      <th>55235</th>\n",
       "      <td>강화 고인돌 유적</td>\n",
       "      <td>쇼핑</td>\n",
       "      <td>청호울파공기청정기</td>\n",
       "    </tr>\n",
       "  </tbody>\n",
       "</table>\n",
       "<p>55236 rows × 3 columns</p>\n",
       "</div>"
      ],
      "text/plain": [
       "       place_name tour_element         tour_element_name\n",
       "0          해동 용궁사          음식점                     부엌우동집\n",
       "1          해동 용궁사          음식점                      명품물회\n",
       "2          해동 용궁사          음식점                  셰프뮤지엄718\n",
       "3          해동 용궁사          음식점                     기장곰장어\n",
       "4          해동 용궁사          음식점             셰프뮤지엄718 루이키친\n",
       "...           ...          ...                       ...\n",
       "55231  강화 고인돌 유적            쇼핑                   교원웰스정수기\n",
       "55232  강화 고인돌 유적            쇼핑  강화유리(KCC)현관방충망창문베란다유리집시공\n",
       "55233  강화 고인돌 유적            쇼핑           암막커텐롤스크린자바라출장상담\n",
       "55234  강화 고인돌 유적            쇼핑                   교원웰스정수기\n",
       "55235  강화 고인돌 유적            쇼핑                 청호울파공기청정기\n",
       "\n",
       "[55236 rows x 3 columns]"
      ]
     },
     "execution_count": 5,
     "metadata": {},
     "output_type": "execute_result"
    }
   ],
   "source": [
    "df"
   ]
  },
  {
   "cell_type": "code",
   "execution_count": 6,
   "metadata": {},
   "outputs": [
    {
     "name": "stdout",
     "output_type": "stream",
     "text": [
      "(55236, 3)\n"
     ]
    }
   ],
   "source": [
    "print(df.shape)"
   ]
  },
  {
   "cell_type": "code",
   "execution_count": 20,
   "metadata": {},
   "outputs": [],
   "source": [
    "# #문화유적지의 요소별로 count해라\n",
    "grouped=df.groupby('tour_element')"
   ]
  },
  {
   "cell_type": "code",
   "execution_count": 21,
   "metadata": {},
   "outputs": [
    {
     "data": {
      "text/html": [
       "<div>\n",
       "<style scoped>\n",
       "    .dataframe tbody tr th:only-of-type {\n",
       "        vertical-align: middle;\n",
       "    }\n",
       "\n",
       "    .dataframe tbody tr th {\n",
       "        vertical-align: top;\n",
       "    }\n",
       "\n",
       "    .dataframe thead th {\n",
       "        text-align: right;\n",
       "    }\n",
       "</style>\n",
       "<table border=\"1\" class=\"dataframe\">\n",
       "  <thead>\n",
       "    <tr style=\"text-align: right;\">\n",
       "      <th></th>\n",
       "      <th>0</th>\n",
       "      <th>1</th>\n",
       "    </tr>\n",
       "  </thead>\n",
       "  <tbody>\n",
       "    <tr>\n",
       "      <th>0</th>\n",
       "      <td>공원</td>\n",
       "      <td>place_name tour_element tour_element_na...</td>\n",
       "    </tr>\n",
       "    <tr>\n",
       "      <th>1</th>\n",
       "      <td>관광명소</td>\n",
       "      <td>place_name tour_element tour_element_na...</td>\n",
       "    </tr>\n",
       "    <tr>\n",
       "      <th>2</th>\n",
       "      <td>교통</td>\n",
       "      <td>place_name tour_element tour_element_na...</td>\n",
       "    </tr>\n",
       "    <tr>\n",
       "      <th>3</th>\n",
       "      <td>쇼핑</td>\n",
       "      <td>place_name tour_element         tour_el...</td>\n",
       "    </tr>\n",
       "    <tr>\n",
       "      <th>4</th>\n",
       "      <td>숙소</td>\n",
       "      <td>place_name tour_element tour_element_na...</td>\n",
       "    </tr>\n",
       "    <tr>\n",
       "      <th>5</th>\n",
       "      <td>술집</td>\n",
       "      <td>place_name tour_element tour_element_na...</td>\n",
       "    </tr>\n",
       "    <tr>\n",
       "      <th>6</th>\n",
       "      <td>음식점</td>\n",
       "      <td>place_name tour_element tour_element_na...</td>\n",
       "    </tr>\n",
       "    <tr>\n",
       "      <th>7</th>\n",
       "      <td>주차시설</td>\n",
       "      <td>place_name tour_element     tour_elemen...</td>\n",
       "    </tr>\n",
       "    <tr>\n",
       "      <th>8</th>\n",
       "      <td>카페</td>\n",
       "      <td>place_name tour_element tour_element_na...</td>\n",
       "    </tr>\n",
       "    <tr>\n",
       "      <th>9</th>\n",
       "      <td>화장실</td>\n",
       "      <td>place_name tour_element tour_element_na...</td>\n",
       "    </tr>\n",
       "  </tbody>\n",
       "</table>\n",
       "</div>"
      ],
      "text/plain": [
       "      0                                                  1\n",
       "0    공원         place_name tour_element tour_element_na...\n",
       "1  관광명소         place_name tour_element tour_element_na...\n",
       "2    교통         place_name tour_element tour_element_na...\n",
       "3    쇼핑         place_name tour_element         tour_el...\n",
       "4    숙소         place_name tour_element tour_element_na...\n",
       "5    술집         place_name tour_element tour_element_na...\n",
       "6   음식점         place_name tour_element tour_element_na...\n",
       "7  주차시설         place_name tour_element     tour_elemen...\n",
       "8    카페         place_name tour_element tour_element_na...\n",
       "9   화장실         place_name tour_element tour_element_na..."
      ]
     },
     "execution_count": 21,
     "metadata": {},
     "output_type": "execute_result"
    }
   ],
   "source": [
    "pd.DataFrame(grouped)"
   ]
  },
  {
   "cell_type": "code",
   "execution_count": null,
   "metadata": {},
   "outputs": [],
   "source": []
  }
 ],
 "metadata": {
  "kernelspec": {
   "display_name": "Python 3",
   "language": "python",
   "name": "python3"
  },
  "language_info": {
   "codemirror_mode": {
    "name": "ipython",
    "version": 3
   },
   "file_extension": ".py",
   "mimetype": "text/x-python",
   "name": "python",
   "nbconvert_exporter": "python",
   "pygments_lexer": "ipython3",
   "version": "3.7.6"
  }
 },
 "nbformat": 4,
 "nbformat_minor": 4
}
