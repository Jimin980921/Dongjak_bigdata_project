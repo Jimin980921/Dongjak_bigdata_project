{
 "cells": [
  {
   "cell_type": "code",
   "execution_count": 10,
   "metadata": {},
   "outputs": [],
   "source": [
    "#패키지 import\n",
    "from selenium import webdriver\n",
    "from bs4 import BeautifulSoup\n",
    "from time import sleep\n",
    "import requests\n",
    "import re\n",
    "\n",
    "driver = webdriver.Chrome(executable_path=\"C:/Users/jmlee/Code/chromedriver_win32/chromedriver.exe\")\n",
    "driver.set_window_size(1200, 800)\n",
    "\n",
    "#구글맵 띄우기\n",
    "driver.get(\"https://www.google.co.kr/maps\")\n",
    "#3초 기다리기\n",
    "driver.implicitly_wait(3)\n",
    "\n",
    "req = requests.get(\"https://www.google.co.kr/maps\")\n",
    "html = req.text #html소스 가져오기, python의 문자열 객체를 반환\n",
    "soup = BeautifulSoup(html, \"html.parser\") #html코드를 python이 이해하는 객체 구조로 변환하는 parsing으로 의미있는 정보 추출 가능"
   ]
  },
  {
   "cell_type": "code",
   "execution_count": 11,
   "metadata": {},
   "outputs": [],
   "source": [
    "#변수 할당\n",
    "elem = driver.find_element_by_id(\"searchboxinput\")\n",
    "#입력부분 비우기\n",
    "elem.clear()\n",
    "#검색어 입력\n",
    "elem.send_keys('경복궁 주변 공원')"
   ]
  },
  {
   "cell_type": "code",
   "execution_count": 12,
   "metadata": {},
   "outputs": [],
   "source": [
    "#검색단추 누르기\n",
    "elem = driver.find_element_by_id(\"searchbox-searchbutton\")\n",
    "elem.click()"
   ]
  },
  {
   "cell_type": "code",
   "execution_count": 4,
   "metadata": {},
   "outputs": [
    {
     "name": "stdout",
     "output_type": "stream",
     "text": [
      "사직공원\n",
      "['사직공원']\n"
     ]
    }
   ],
   "source": [
    "a=[]\n",
    "elem = driver.find_element_by_xpath(\"/html/body/jsl/div[3]/div[9]/div[8]/div/div[1]/div/div/div[4]/div[1]/div[1]/div[1]/div[1]/div[1]/div[1]/div[2]/h3/span\").text\n",
    "print(elem)\n",
    "a.append(elem)\n",
    "print(a)"
   ]
  },
  {
   "cell_type": "code",
   "execution_count": 14,
   "metadata": {},
   "outputs": [
    {
     "name": "stdout",
     "output_type": "stream",
     "text": [
      "['사직공원', '삼청공원', '무궁화동산', '탑골공원', '삼청공원', '세종로공원', '수송공원', '창경궁공원', '숭인공원', '창덕궁공원', '원서공원', '종묘공원', '종묘광장공원', '동묘공원', '종로 청진공원', '와룡공원', '경희궁공원', '조선극장터', '원서동 어린이 놀이터', '우정공원', '다동공원', '덕수궁공원', '인왕산관리사무소', '정동공원', '종묘사무소', '서린공원', 'JooSiKyung Park (주시경 공원)', '와룡공원', '삼청공원후문', '숙정문산책로', 'NaeSooDong Park (내수동 근린 공원)', '명동문화공원', '인왕산공원', '서대문독립공원', '무악 어린이공원', '독립문공원', '서소문역사공원', '인왕산자연공원', '말바위 진입로 남서 계단 쉼터', '청계천', '한빛미디어파크', '서울특별시중부푸른도시사업소', '월암근린공원', '서소문 역사공원', '주요한 시비', '숭례문광장', '금화산골목공원', '경운동 수양 느릅나무', '순화 문화공원', '성북 우정의 공원', '한양공원표석', '배재공원', '독립문 어린이 공원', '타임캡슐광장', '순화어린이공원', '다람쥐 사육장', 'Wolnam Lee Park', '다시세운광장', '하늘로즈가든', '회현동 은행나무', '기차길옆소공원', '남산예장자락보행공원', '예장 문학공원', '북서울 꿈의숲', 'Hangang Park', '송도 센트럴공원']\n"
     ]
    }
   ],
   "source": [
    "park_name=[]\n",
    "next_button=driver.find_element_by_id('n7lv7yjyC35__section-pagination-button-next')  \n",
    "for page in range(1,10,1):\n",
    "    for i in range(1,40,2):\n",
    "        try:\n",
    "            park_tag= driver.find_element_by_xpath('/html/body/jsl/div[3]/div[9]/div[8]/div/div[1]/div/div/div[4]/div[1]/div['+ str(i)+']/div[1]/div[1]/div[2]/span[4]')\n",
    "            if((park_tag.text==\"공원\") and i<39):\n",
    "                park=driver.find_element_by_xpath('/html/body/jsl/div[3]/div[9]/div[8]/div/div[1]/div/div/div[4]/div[1]/div['+str(i)+']/div[1]/div[1]/div[1]/div[1]/div[2]/h3/span').text\n",
    "                park_name.append(park)  \n",
    "                \n",
    "            elif((park_tag.text==\"공원\") and i==39):  #그 페이지의 마지막이라면 \n",
    "                park=driver.find_element_by_xpath('/html/body/jsl/div[3]/div[9]/div[8]/div/div[1]/div/div/div[4]/div[1]/div['+str(i)+']/div[1]/div[1]/div[1]/div[1]/div[2]/h3/span').text\n",
    "                park_name.append(park)           \n",
    "                next_button.click()#다음페이지 버튼을 눌러라. \n",
    "                sleep(5)\n",
    "                \n",
    "            elif((park_tag.text!=\"공원\") and i==39):\n",
    "                next_button.click()#다음페이지 버튼을 눌러라. \n",
    "                sleep(5)\n",
    "                \n",
    "        except:\n",
    "            break;\n",
    "#             or (park_tag.text==\"기념공원\") or (park_tag.text==\"시티 공원\") or (park_tag.text==\"정원\") \n",
    "print(park_name)"
   ]
  },
  {
   "cell_type": "code",
   "execution_count": null,
   "metadata": {},
   "outputs": [],
   "source": []
  }
 ],
 "metadata": {
  "kernelspec": {
   "display_name": "Python 3",
   "language": "python",
   "name": "python3"
  },
  "language_info": {
   "codemirror_mode": {
    "name": "ipython",
    "version": 3
   },
   "file_extension": ".py",
   "mimetype": "text/x-python",
   "name": "python",
   "nbconvert_exporter": "python",
   "pygments_lexer": "ipython3",
   "version": "3.7.6"
  }
 },
 "nbformat": 4,
 "nbformat_minor": 4
}
