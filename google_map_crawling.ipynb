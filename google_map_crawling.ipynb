{
 "cells": [
  {
   "cell_type": "code",
   "execution_count": 46,
   "metadata": {},
   "outputs": [],
   "source": [
    "#패키지 import\n",
    "from selenium import webdriver\n",
    "from bs4 import BeautifulSoup\n",
    "from time import sleep\n",
    "import requests\n",
    "import re\n",
    "\n",
    "driver = webdriver.Chrome(executable_path=\"C:/Users/jmlee/Code/chromedriver_win32/chromedriver.exe\")\n",
    "driver.set_window_size(1200, 800)\n",
    "\n",
    "#구글맵 띄우기\n",
    "driver.get(\"https://www.google.co.kr/maps\")\n",
    "#3초 기다리기\n",
    "driver.implicitly_wait(3)\n",
    "\n",
    "req = requests.get(\"https://www.google.co.kr/maps\")\n",
    "html = req.text #html소스 가져오기, python의 문자열 객체를 반환\n",
    "soup = BeautifulSoup(html, \"html.parser\") #html코드를 python이 이해하는 객체 구조로 변환하는 parsing으로 의미있는 정보 추출 가능"
   ]
  },
  {
   "cell_type": "code",
   "execution_count": 47,
   "metadata": {},
   "outputs": [],
   "source": [
    "#변수 할당\n",
    "elem = driver.find_element_by_id(\"searchboxinput\")\n",
    "#입력부분 비우기\n",
    "elem.clear()\n",
    "#검색어 입력\n",
    "elem.send_keys('경복궁 주변 공원')"
   ]
  },
  {
   "cell_type": "code",
   "execution_count": 48,
   "metadata": {},
   "outputs": [],
   "source": [
    "#검색단추 누르기\n",
    "elem = driver.find_element_by_id(\"searchbox-searchbutton\")\n",
    "elem.click()"
   ]
  },
  {
   "cell_type": "code",
   "execution_count": 49,
   "metadata": {},
   "outputs": [],
   "source": [
    "dt =driver.find_element_by_xpath('//*[@id=\"pane\"]/div/div[1]/div/div/div[4]/div[1]/div[1]/div[1]/div[1]') #넓게 가져오면 많은 데이터 출력됨"
   ]
  },
  {
   "cell_type": "code",
   "execution_count": 50,
   "metadata": {},
   "outputs": [
    {
     "name": "stdout",
     "output_type": "stream",
     "text": [
      "사직공원\n",
      "4.1(186)\n",
      "공원 · 사직동 1-48\n"
     ]
    }
   ],
   "source": [
    "print(dt.text)"
   ]
  },
  {
   "cell_type": "code",
   "execution_count": 64,
   "metadata": {},
   "outputs": [
    {
     "name": "stdout",
     "output_type": "stream",
     "text": [
      "['사직공원', '무궁화동산', '삼청공원', '세종로공원', '수송공원', '숭인공원', '종로 청진공원', '동묘공원', '와룡공원', '경희궁공원', '덕수궁공원', '다동공원', '우정공원', '정동공원', '인왕산관리사무소', '평화의소녀상', '서린공원', '종묘사무소', '삼청공원후문', '청운공원', '사직공원', '무궁화동산', '삼청공원', '세종로공원', '수송공원', '숭인공원', '종로 청진공원', '동묘공원', '와룡공원', '경희궁공원', '덕수궁공원', '서울특별시중부푸른도시사업소', '서소문 역사공원', '숭례문광장', '주요한 시비', '금화산골목공원', '최규식경무관 동상', '순화 문화공원', '횡보 염상섭의 상', '호머헐버트 기념공원', 'JooSiKyung Park (주시경 공원)', '이헌경 공덕비', 'NaeSooDong Park (내수동 근린 공원)', '서대문독립공원', '인왕산공원', '무악 어린이공원', '독립문공원', '서소문역사공원', '인왕산자연공원', '청계천', '월암근린공원', '서울특별시중부푸른도시사업소', '서소문 역사공원', '숭례문광장', '주요한 시비', '금화산골목공원', '최규식경무관 동상', '순화 문화공원', '횡보 염상섭의 상', '호머헐버트 기념공원', 'JooSiKyung Park (주시경 공원)', '이헌경 공덕비', 'NaeSooDong Park (내수동 근린 공원)', '서대문독립공원', '인왕산공원', '무악 어린이공원', '독립문공원', '서소문역사공원', '인왕산자연공원', '청계천', '월암근린공원', '서울특별시중부푸른도시사업소', '서소문 역사공원', '숭례문광장', '주요한 시비', '금화산골목공원', '최규식경무관 동상', '순화 문화공원', '횡보 염상섭의 상', '호머헐버트 기념공원', 'JooSiKyung Park (주시경 공원)', '이헌경 공덕비', 'NaeSooDong Park (내수동 근린 공원)', '서대문독립공원', '인왕산공원', '무악 어린이공원', '독립문공원', '서소문역사공원', '인왕산자연공원', '청계천', '월암근린공원', '서울특별시중부푸른도시사업소', '서소문 역사공원', '숭례문광장', '주요한 시비', '금화산골목공원', '최규식경무관 동상', '순화 문화공원', '횡보 염상섭의 상', '호머헐버트 기념공원', 'JooSiKyung Park (주시경 공원)', '이헌경 공덕비', 'NaeSooDong Park (내수동 근린 공원)', '서대문독립공원', '인왕산공원', '무악 어린이공원', '독립문공원', '서소문역사공원', '인왕산자연공원', '청계천', '월암근린공원', '서울특별시중부푸른도시사업소', '서소문 역사공원', '숭례문광장', '주요한 시비', '금화산골목공원', '최규식경무관 동상', '순화 문화공원', '횡보 염상섭의 상', '호머헐버트 기념공원', 'JooSiKyung Park (주시경 공원)', '이헌경 공덕비', 'NaeSooDong Park (내수동 근린 공원)', '서대문독립공원', '인왕산공원', '무악 어린이공원', '독립문공원', '서소문역사공원', '인왕산자연공원', '청계천', '월암근린공원', '서울특별시중부푸른도시사업소', '서소문 역사공원', '숭례문광장', '주요한 시비', '금화산골목공원', '최규식경무관 동상', '순화 문화공원', '횡보 염상섭의 상', '호머헐버트 기념공원', 'JooSiKyung Park (주시경 공원)', '이헌경 공덕비', 'NaeSooDong Park (내수동 근린 공원)', '서대문독립공원', '인왕산공원', '무악 어린이공원', '독립문공원', '서소문역사공원', '인왕산자연공원', '청계천', '월암근린공원', '서울특별시중부푸른도시사업소', '서소문 역사공원', '숭례문광장', '주요한 시비', '금화산골목공원', '최규식경무관 동상', '순화 문화공원', '횡보 염상섭의 상', '호머헐버트 기념공원', 'JooSiKyung Park (주시경 공원)', '이헌경 공덕비', 'NaeSooDong Park (내수동 근린 공원)', '서대문독립공원', '인왕산공원', '무악 어린이공원', '독립문공원', '서소문역사공원', '인왕산자연공원', '청계천', '월암근린공원', '서울특별시중부푸른도시사업소', '서소문 역사공원', '숭례문광장', '주요한 시비', '금화산골목공원', '최규식경무관 동상', '순화 문화공원', '횡보 염상섭의 상', '호머헐버트 기념공원']\n"
     ]
    }
   ],
   "source": [
    "park_name=[]\n",
    "\n",
    "for i in range(1,10):\n",
    "    try:\n",
    "        for j in range(1,40,2):\n",
    "            if(j<39):\n",
    "                dt=driver.find_element_by_xpath('/html/body/jsl/div[3]/div[9]/div[8]/div/div[1]/div/div/div[4]/div[1]/div['+str(j)+']/div[1]/div[1]/div[1]/div[1]/div[2]/h3/span')\n",
    "                a=dt.text\n",
    "                park_name.append(a)\n",
    "            \n",
    "            else:\n",
    "                dt=driver.find_element_by_xpath('/html/body/jsl/div[3]/div[9]/div[8]/div/div[1]/div/div/div[4]/div[1]/div['+str(j)+']/div[1]/div[1]/div[1]/div[1]/div[2]/h3/span')\n",
    "                a=dt.text\n",
    "                park_name.append(a)\n",
    "                next_button= driver.find_element_by_xpath(\"/html/body/jsl/div[3]/div[9]/div[8]/div/div[1]/div/div/div[4]/div[2]/div/div[1]/div/button[2]/span\")\n",
    "                next_button.click()\n",
    "                driver.implicitly_wait(3)\n",
    "                     \n",
    "    except:\n",
    "        break\n",
    "\n",
    "print(park_name)"
   ]
  },
  {
   "cell_type": "code",
   "execution_count": null,
   "metadata": {},
   "outputs": [],
   "source": []
  }
 ],
 "metadata": {
  "kernelspec": {
   "display_name": "Python 3",
   "language": "python",
   "name": "python3"
  },
  "language_info": {
   "codemirror_mode": {
    "name": "ipython",
    "version": 3
   },
   "file_extension": ".py",
   "mimetype": "text/x-python",
   "name": "python",
   "nbconvert_exporter": "python",
   "pygments_lexer": "ipython3",
   "version": "3.7.6"
  }
 },
 "nbformat": 4,
 "nbformat_minor": 4
}
