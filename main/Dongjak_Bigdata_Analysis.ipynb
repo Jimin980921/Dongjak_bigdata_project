{
 "cells": [
  {
   "cell_type": "markdown",
   "metadata": {},
   "source": [
    "# 동작구 Analysis : 크롤링한 데이터를 다중회귀분석하고 머신러닝으로 학습하기\n",
    "\n",
    "앞서 수집한 데이터 csv를 불러와서 분석에 알맞게 가공하고, 다중회귀분석(다차원의 x가 존재하는 회귀)을 test,data셋으로 나누어 정확도를 높인다. 사용할 model과 손실함수는 ~\n",
    "\n",
    "Reference\n",
    "http://hleecaster.com/ml-multiple-linear-regression-example/"
   ]
  },
  {
   "cell_type": "code",
   "execution_count": null,
   "metadata": {},
   "outputs": [],
   "source": [
    "import pandas as pd\n",
    "\n",
    "df1 = pd.read_csv(\"Dongjak_Bigdata.csv\")\n",
    "df2 = pd.read_csv(\"Dongjak_Bigdata_review.csv\")\n",
    "\n",
    "df1.head()\n",
    "df2.head()"
   ]
  },
  {
   "cell_type": "code",
   "execution_count": null,
   "metadata": {},
   "outputs": [],
   "source": [
    "df3 = ['place_name','음식점','카페',,,,,,,,,,'디저트','리뷰수' ]\n",
    "\n",
    "df1을 groupby"
   ]
  }
 ],
 "metadata": {
  "kernelspec": {
   "display_name": "Python 3",
   "language": "python",
   "name": "python3"
  },
  "language_info": {
   "codemirror_mode": {
    "name": "ipython",
    "version": 3
   },
   "file_extension": ".py",
   "mimetype": "text/x-python",
   "name": "python",
   "nbconvert_exporter": "python",
   "pygments_lexer": "ipython3",
   "version": "3.7.6"
  }
 },
 "nbformat": 4,
 "nbformat_minor": 4
}
