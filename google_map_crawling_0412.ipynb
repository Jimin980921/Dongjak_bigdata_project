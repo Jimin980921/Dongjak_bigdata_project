{
 "cells": [
  {
   "cell_type": "code",
   "execution_count": 1,
   "metadata": {},
   "outputs": [],
   "source": [
    "#패키지 import\n",
    "from selenium import webdriver\n",
    "from bs4 import BeautifulSoup\n",
    "from time import sleep\n",
    "import requests\n",
    "import re\n",
    "\n",
    "driver = webdriver.Chrome(executable_path=\"C:/Users/jmlee/Code/chromedriver_win32/chromedriver.exe\")\n",
    "driver.set_window_size(1200, 800)\n",
    "\n",
    "#구글맵 띄우기\n",
    "driver.get(\"https://www.google.co.kr/maps\")\n",
    "#3초 기다리기\n",
    "driver.implicitly_wait(3)\n",
    "\n",
    "req = requests.get(\"https://www.google.co.kr/maps\")\n",
    "html = req.text #html소스 가져오기, python의 문자열 객체를 반환\n",
    "soup = BeautifulSoup(html, \"html.parser\") #html코드를 python이 이해하는 객체 구조로 변환하는 parsing으로 의미있는 정보 추출 가능"
   ]
  },
  {
   "cell_type": "code",
   "execution_count": 12,
   "metadata": {},
   "outputs": [],
   "source": [
    "# def search():\n",
    "#     #변수 할당\n",
    "#     elem = driver.find_element_by_id(\"searchboxinput\")\n",
    "#     #입력부분 비우기\n",
    "#     elem.clear()\n",
    "#     #검색어 입력\n",
    "#     elem.send_keys('경복궁 주변 공원') #공원, 화장실, 공영주차장, 관광명소, 술집, 쇼핑\n",
    "    \n",
    "#     #검색단추 누르기\n",
    "#     elem = driver.find_element_by_id(\"searchbox-searchbutton\")\n",
    "#     elem.click()"
   ]
  },
  {
   "cell_type": "code",
   "execution_count": 2,
   "metadata": {},
   "outputs": [
    {
     "name": "stdout",
     "output_type": "stream",
     "text": [
      "읍내동 마애불상\n",
      "\n"
     ]
    },
    {
     "data": {
      "text/plain": [
       "3831"
      ]
     },
     "execution_count": 2,
     "metadata": {},
     "output_type": "execute_result"
    }
   ],
   "source": [
    "f = open('placeList.txt', 'r',encoding='UTF8')\n",
    "search_place=[]\n",
    "lines = f.readlines()\n",
    "for line in lines:\n",
    "    search_place.append(line)\n",
    "    f.close()\n",
    "print(search_place[0])\n",
    "len(search_place)"
   ]
  },
  {
   "cell_type": "code",
   "execution_count": 18,
   "metadata": {},
   "outputs": [],
   "source": [
    "elem = driver.find_element_by_id(\"searchboxinput\") #변수 할당\n",
    "elem.clear()\n",
    "elem.send_keys('읍내동 마애불상')\n",
    "elem = driver.find_element_by_id(\"searchbox-searchbutton\")  #검색버튼\n",
    "elem.click()\n"
   ]
  },
  {
   "cell_type": "code",
   "execution_count": 29,
   "metadata": {},
   "outputs": [
    {
     "data": {
      "text/plain": [
       "'Google 지도에서 읍내동 마애불상을(를) 찾을 수 없습니다.'"
      ]
     },
     "execution_count": 29,
     "metadata": {},
     "output_type": "execute_result"
    }
   ],
   "source": [
    "a.text"
   ]
  },
  {
   "cell_type": "code",
   "execution_count": 2,
   "metadata": {},
   "outputs": [],
   "source": [
    "# import sys\n",
    "\n",
    "# f = open('placeList.txt', 'r',encoding='UTF8')\n",
    "# search_place=[]\n",
    "# lines = f.readlines()\n",
    "# for line in lines:\n",
    "#     search_place.append(line)\n",
    "#     f.close()\n",
    "\n",
    "# def crawling1():\n",
    "#     search_kor=['공원','정원','관광 명소','술집','쇼핑몰']\n",
    "#     a=len(search_kor) \n",
    "    \n",
    "        \n",
    "#     for place in range(0,3831):  #장소\n",
    "#         f=open(\"result.csv\",'w',encoding=\"UTF-8\")\n",
    "#         elem = driver.find_element_by_id(\"searchboxinput\") #변수 할당\n",
    "#         elem.clear()\n",
    "# #             elem.send_keys(search_place[place]+'주변' + search_kor[i])\n",
    "#         elem.send_keys(search_place[place])  #장소 검색\n",
    "#         elem = driver.find_element_by_id(\"searchbox-searchbutton\")  #검색버튼\n",
    "#         elem.click()\n",
    "#         sleep(5)\n",
    "#         name=[]\n",
    "#         error=driver.find_element_by_xpath('/html/body/jsl/div[3]/div[9]/div[8]/div/div[1]/div/div/div[2]/div[1]/div[1]')\n",
    "            \n",
    "#         if(error.text=='Google 지도에서'+ search_place[place]+'을(를) 찾을 수 없습니다.'):#장소가 없으면\n",
    "# #                  name.append('NULL')\n",
    "#             f.write(search_place[place] + ',' + 'NULL' + '\\n')  #NULL을 넣어라\n",
    "\n",
    "                \n",
    "#         else:\n",
    "#             for i in range (0,a):   #종류별\n",
    "#                 elem = driver.find_element_by_id(\"searchboxinput\") #변수 할당\n",
    "#                 elem.clear()\n",
    "#                 elem.send_keys(search_place[place]+'주변' + search_kor[i])  #장소+종류검색\n",
    "#                 elem = driver.find_element_by_id(\"searchbox-searchbutton\")  #검색버튼\n",
    "#                 elem.click()\n",
    "#                 sleep(5)\n",
    "#                 for page in range(1,10,1):  #페이지 수\n",
    "#                     try:\n",
    "#                         for j in range(1,40,2):   #한페이지 크롤링\n",
    "#                             tag= driver.find_element_by_xpath('/html/body/jsl/div[3]/div[9]/div[8]/div/div[1]/div/div/div[4]/div[1]/div['+ str(j)+']/div[1]/div[1]/div[2]/span[4]')\n",
    "#                             if((tag.text==search_kor[i]) and j<39):\n",
    "#                                 name_=driver.find_element_by_xpath('/html/body/jsl/div[3]/div[9]/div[8]/div/div[1]/div/div/div[4]/div[1]/div['+str(j)+']/div[1]/div[1]/div[1]/div[1]/div[2]/h3/span').text\n",
    "# #                                 name.append(name_)  \n",
    "#                                 f.write(search_place[place] + ',' + name_ + '\\n')\n",
    "                \n",
    "#                             elif((tag.text==search_kor[i]) and j==39):  #그 페이지의 마지막이라면 \n",
    "#                                 name_=driver.find_element_by_xpath('/html/body/jsl/div[3]/div[9]/div[8]/div/div[1]/div/div/div[4]/div[1]/div['+str(j)+']/div[1]/div[1]/div[1]/div[1]/div[2]/h3/span').text\n",
    "# #                                 name.append(name_)   \n",
    "#                                 f.write(search_place[place] + ',' + name_ + '\\n')\n",
    "#                                 next_button=driver.find_element_by_id('n7lv7yjyC35__section-pagination-button-next')  \n",
    "#                                 next_button.click()#다음페이지 버튼을 눌러라. \n",
    "#                                 sleep(5)\n",
    "            \n",
    "#                             elif((tag.text!=search_kor[i]) and j==39):\n",
    "#                                 next_button=driver.find_element_by_id('n7lv7yjyC35__section-pagination-button-next')  \n",
    "#                                 next_button.click()#다음페이지 버튼을 눌러라. \n",
    "#                                 sleep(5)\n",
    "                \n",
    "#                     except:\n",
    "#                          break\n",
    "                \n",
    "# #             print(name)\n"
   ]
  },
  {
   "cell_type": "code",
   "execution_count": 2,
   "metadata": {},
   "outputs": [],
   "source": [
    "import sys\n",
    "import csv\n",
    "\n",
    "f = open('placeList.txt', 'r',encoding='UTF8')\n",
    "search_place=[]\n",
    "lines = f.readlines()\n",
    "for line in lines:\n",
    "    search_place.append(line)\n",
    "    f.close()\n",
    "#검색안되는 장소는 바로 -1 대입하고 끝내버리기. csv에 저장 \n",
    "\n",
    "def crawling1():\n",
    "    search_kor=['공원','정원','관광 명소','술집','쇼핑몰']\n",
    "    a=len(search_kor) \n",
    "    for place in range(0,3831):  #장소\n",
    "        elem = driver.find_element_by_id(\"searchboxinput\") #변수 할당\n",
    "        elem.clear()       \n",
    "        elem.send_keys(search_place[place])  #장소 검색\n",
    "        elem = driver.find_element_by_id(\"searchbox-searchbutton\")  #검색버튼\n",
    "        elem.click()\n",
    "        sleep(5)\n",
    "        all_=[]\n",
    "        for i in range (0,a):   #종류별\n",
    "            name=[]  \n",
    "            elem = driver.find_element_by_id(\"searchboxinput\") #변수 할당\n",
    "            elem.clear()\n",
    "            elem.send_keys(search_place[place]+'주변'+ search_kor[i])  #장소+종류검색\n",
    "            elem = driver.find_element_by_id(\"searchbox-searchbutton\")  #검색버튼\n",
    "            elem.click()\n",
    "            sleep(5)\n",
    "            for page in range(1,10,1):  #페이지 수\n",
    "                for j in range(1,40,2):   #한페이지 크롤링\n",
    "                    tag= driver.find_element_by_xpath('/html/body/jsl/div[3]/div[9]/div[8]/div/div[1]/div/div/div[4]/div[1]/div['+ str(j)+']/div[1]/div[1]/div[2]/span[4]')\n",
    "                    if((tag.text==search_kor[i]) and j<39):\n",
    "                        name_=driver.find_element_by_xpath('/html/body/jsl/div[3]/div[9]/div[8]/div/div[1]/div/div/div[4]/div[1]/div['+str(j)+']/div[1]/div[1]/div[1]/div[1]/div[2]/h3/span').text\n",
    "                        name.append(name_)\n",
    "                \n",
    "                    elif((tag.text==search_kor[i]) and j==39):  #그 페이지의 마지막이라면 \n",
    "                        name_=driver.find_element_by_xpath('/html/body/jsl/div[3]/div[9]/div[8]/div/div[1]/div/div/div[4]/div[1]/div['+str(j)+']/div[1]/div[1]/div[1]/div[1]/div[2]/h3/span').text\n",
    "                        name.append(name_)\n",
    "                        next_button=driver.find_element_by_id('n7lv7yjyC35__section-pagination-button-next')  \n",
    "                        next_button.click()#다음페이지 버튼을 눌러라. \n",
    "                        sleep(5)\n",
    "            \n",
    "                    elif((tag.text!=search_kor[i]) and j==39):\n",
    "                        next_button=driver.find_element_by_id('n7lv7yjyC35__section-pagination-button-next')  \n",
    "                        next_button.click()#다음페이지 버튼을 눌러라. \n",
    "                        sleep(5)\n",
    "                        \n",
    "    print(all_)\n"
   ]
  },
  {
   "cell_type": "code",
   "execution_count": null,
   "metadata": {
    "scrolled": false
   },
   "outputs": [],
   "source": [
    "crawling1()"
   ]
  },
  {
   "cell_type": "code",
   "execution_count": null,
   "metadata": {},
   "outputs": [],
   "source": [
    "import geocoder\n",
    "import openpyxl\n",
    "import time\n",
    "\n",
    "## 엘셀파일 열기\n",
    "filename = \"result_.xlsx\"\n",
    "exelFile = openpyxl.load_workbook(filename)\n",
    "\n",
    "## 시트 설정\n",
    "sheet = exelFile.worksheets[0]\n",
    "\n",
    "\n",
    "## 데이터 가져오기\n",
    "rowCount = 1\n",
    "for row in sheet.rows:\n",
    "    \n",
    "## geocoder 호출\n",
    "g = geocoder.google(row[0].value)\n",
    "\n",
    "## 응답 실패 처리\n",
    "if g.status == \"OVER_QUERY_LIMIT\":\n",
    "while True:\n",
    "    print(\"Fail ===> Try Again\")\n",
    "    time.sleep(0.5)\n",
    "    g = geocoder.google(row[0].value)\n",
    "    if g.status == \"OK\":\n",
    "        break\n",
    "\n",
    "## cell 설정 [ B1 ~ B* : 위도 / C1 ~ C* : 경도]\n",
    "lat_cell = sheet.cell(row = rowCount, column = 2)\n",
    "lng_cell = sheet.cell(row = rowCount, column = 3)\n",
    "\n",
    "## 위도, 경도 변환\n",
    "geo = g.latlng\n",
    "\n",
    "## 변환 확인\n",
    "print(geo)\n",
    "\n",
    "## 데이터 추가\n",
    "lat_cell.value = geo[0]\n",
    "lng_cell.value = geo[1]\n",
    "rowCount = rowCount + 1\n",
    "\n",
    "## 데이터 저장\n",
    "exelFile.save(\"address.xlsx\")\n",
    "\n"
   ]
  },
  {
   "cell_type": "code",
   "execution_count": 47,
   "metadata": {},
   "outputs": [],
   "source": [
    "import sys\n",
    "\n",
    "def crawling2():\n",
    "    search_kor=['공중화장실','공영주차장','주차장']\n",
    "    a=len(search_kor)    \n",
    "    for i in range (0,a):\n",
    "        elem = driver.find_element_by_id(\"searchboxinput\") #변수 할당\n",
    "        elem.clear()\n",
    "        elem.send_keys('경복궁 주변'+ search_kor[i])\n",
    "        elem = driver.find_element_by_id(\"searchbox-searchbutton\")\n",
    "        elem.click()\n",
    "        sleep(5)\n",
    "        \n",
    "        name=[]\n",
    "        next_button=driver.find_element_by_id('n7lv7yjyC35__section-pagination-button-next')  \n",
    "        \n",
    "        for page in range(1,10,1):\n",
    "            try:\n",
    "                for j in range(1,40,2):\n",
    "                    tag= driver.find_element_by_xpath('/html/body/jsl/div[3]/div[9]/div[8]/div/div[1]/div/div/div[2]/div[1]/div['+ str(j)+']/div[1]/div[1]/div[2]/span[4]')\n",
    "                    if((tag.text==search_kor[i]) and j<39):\n",
    "                        name_=driver.find_element_by_xpath('/html/body/jsl/div[3]/div[9]/div[8]/div/div[1]/div/div/div[2]/div[1]/div['+str(j)+']/div[1]/div[1]/div[1]/div[1]/div[2]/h3/span').text\n",
    "                        name.append(name_)      \n",
    "                        \n",
    "                    elif((tag.text==search_kor[i]) and j==39):  #그 페이지의 마지막이라면 \n",
    "                        name_=driver.find_element_by_xpath('/html/body/jsl/div[3]/div[9]/div[8]/div/div[1]/div/div/div[2]/div[1]/div['+str(j)+']/div[1]/div[1]/div[1]/div[1]/div[2]/h3/span').text\n",
    "                        name.append(name_)           \n",
    "                        next_button.click()#다음페이지 버튼을 눌러라. \n",
    "                        sleep(5)\n",
    "                \n",
    "                    elif((tag.text!=search_kor[i]) and j==39):\n",
    "                        next_button.click()#다음페이지 버튼을 눌러라. \n",
    "                        sleep(5)       \n",
    "            except:\n",
    "                break;\n",
    "        print(name)"
   ]
  },
  {
   "cell_type": "code",
   "execution_count": 48,
   "metadata": {},
   "outputs": [
    {
     "name": "stdout",
     "output_type": "stream",
     "text": [
      "['공중화장실 인사동', '공중화장실 인사동북측입구무인자동', '공중화장실 춘추관주차장', '공중화장실 누상동', '공중화장실 세종문화회관무인자동', '공중화장실 창경궁', '공중화장실 청계천삼일교무인자동', '공중화장실 정동근린공원', '공중화장실 종각제일은행무인자동', '공중화장실 배재공원', '공중화장실 카톨릭회관무인자동', '공중화장실 정보통신부무인자동', '공중화장실 조선일보사무인자동', '공중화장실 인왕산등산로입구', '공중화장실 인왕산수목원약수터', '공중화장실 중림동', '공중화장실 을지로입구무인자동', '공중화장실 청계천관수교무인자동', '공중화장실 서대문역무인자동', '공중화장실 영천', '공중화장실 종로3가무인자동', '공중화장실 서소문근린공원', '공중화장실 성북성터', '공중화장실 묵정공원', '공중화장실 현저', '공중화장실 경찰청무인자동', '공중화장실 남대문시장입구1무인자동', '민간개방화장실 세인빌딩']\n",
      "['서인사마당 공영주차장']\n",
      "['광화문빌딩앞공영주차장', '서인사마당공영주차장', '적선노외주차장', '종로주차장', '삼청동1층공영주차장', '관훈주차장', '경복궁 주차장', '끄레아', '낙원상가주차장', '탑골공원앞공영주차장', '종각앞공영주차장', '창덕궁주차장', '원서공원앞공영주차장']\n"
     ]
    }
   ],
   "source": [
    "crawling2()"
   ]
  },
  {
   "cell_type": "code",
   "execution_count": null,
   "metadata": {},
   "outputs": [],
   "source": [
    "<div jstcache=\"1479\" aria-label=\"카페디비베스경복궁\" data-result-index=\"1\" data-section-id=\"or:1\" ved=\"1i:2,t:12690,e:1,r:1,p:Z8WOXpKnJv6e4-EPorSX-A4:128\" role=\"link\" tabindex=\"0\" class=\"section-result\" jsaction=\"pane.resultSection.click;keydown:pane.resultSection.keydown;mouseover:pane.resultSection.in;mouseout:pane.resultSection.out;focus:pane.resultSection.focusin;blur:pane.resultSection.focusout\" jsan=\"t-nqWj9GyoaSo,7.section-result,0.aria-label,0.data-result-index,0.data-section-id,0.ved,0.role,0.tabindex,22.jsaction\"> <div class=\"section-result-content\"> <div class=\"section-result-text-content\"> <div class=\"section-result-header-container\"> <div jstcache=\"1312\" class=\"section-result-header\" jsan=\"7.section-result-header\"> <div jstcache=\"1313\" class=\"section-result-partial-result-justification\" style=\"display:none\"> <span jstcache=\"1314\" style=\"display:none\">'<span jstcache=\"1315\"></span>'</span> </div> <div jstcache=\"1316\" class=\"section-result-title-container\" jsan=\"7.section-result-title-container\"><h3 class=\"section-result-title\"><span jstcache=\"1317\">카페디비베스경복궁</span><button jstcache=\"1318\" style=\"display:none\"></button></h3><span jstcache=\"1319\" class=\"ad-badge\" style=\"display: none; font-family: Roboto, &quot;Noto Sans KR&quot;, Arial, sans-serif;\">광고</span><span jstcache=\"1320\" class=\"ad-badge\" style=\"display: none; font-family: Roboto, &quot;Noto Sans KR&quot;, Arial, sans-serif;\">광고</span><span jstcache=\"1321\"><span jstcache=\"1322\"><span jstcache=\"1428\" aria-label=\" 4.5성급 \" class=\"section-result-rating\"><span aria-hidden=\"true\" jstcache=\"332\" class=\"cards-rating-score\" jsan=\"7.cards-rating-score,0.aria-hidden\">4.5</span><ol jstcache=\"333\" class=\"cards-rating-stars\"><li jstcache=\"334\" jsinstance=\"0\" class=\"cards-rating-star\"></li><li jstcache=\"334\" jsinstance=\"1\" class=\"cards-rating-star\"></li><li jstcache=\"334\" jsinstance=\"2\" class=\"cards-rating-star\"></li><li jstcache=\"334\" jsinstance=\"*3\" class=\"cards-rating-star\"></li><li jstcache=\"335\" class=\"cards-rating-star cards-rating-star-half\"></li><li jstcache=\"336\" class=\"cards-rating-star cards-rating-star-empty\" style=\"display:none\"></li></ol></span><span aria-label=\" 리뷰 2개 \" jstcache=\"1429\" class=\"section-result-num-ratings\" jsan=\"7.section-result-num-ratings,0.aria-label\">(2)</span></span><span jstcache=\"1323\" style=\"display:none\"></span></span></div> </div> <div jstcache=\"1324\"> <div jstcache=\"1442\" class=\"section-result-hotel-price\" style=\"display:none\" jsan=\"7.section-result-hotel-price\"></div> <div jstcache=\"1443\" class=\"section-result-hotel-price\" style=\"display:none\"> <div jstcache=\"1444\"></div> <div aria-hidden=\"true\" jstcache=\"1445\" class=\"section-hotel-value-price\" jsan=\"7.section-hotel-value-price,0.aria-hidden\"></div> </div> <div jstcache=\"1446\" class=\"section-result-hotel-price\" style=\"display:none\"> <div jstcache=\"1447\" class=\"section-result-offer-price\" jsan=\"7.section-result-offer-price\"></div> </div> </div> <div jstcache=\"1325\" style=\"display:none\"></div> </div> <div jstcache=\"1326\" class=\"section-result-details-container\" jsan=\"7.section-result-details-container\"> <span jstcache=\"1327\" class=\"ad-badge\" style=\"display: none; font-family: Roboto, &quot;Noto Sans KR&quot;, Arial, sans-serif;\">광고</span> <span role=\"text\" jstcache=\"1328\" class=\"section-result-cost\" jsan=\"7.section-result-cost,0.role\"></span> <span aria-hidden=\"true\" jstcache=\"1329\" class=\"section-result-separator\" style=\"display:none\">·</span> <span jstcache=\"1330\" class=\"section-result-details\" jsan=\"7.section-result-details\">카페</span> <span aria-hidden=\"true\" jstcache=\"1331\" class=\"section-result-separator\">·</span> <span jstcache=\"1332\" class=\"section-result-location\" jsan=\"7.section-result-location\">적선동 80</span> </div> <div jstcache=\"1333\" style=\"display:none\"> <span class=\"ad-badge\" style=\"font-family: Roboto, &quot;Noto Sans KR&quot;, Arial, sans-serif;\">광고</span> </div> <div jstcache=\"1334\" class=\"section-result-descriptions GLOBAL__gm2-body-2\" style=\"display: none; font-family: Roboto, &quot;Noto Sans KR&quot;, Arial, sans-serif;\" jsan=\"7.section-result-descriptions,7.GLOBAL__gm2-body-2\"> <div jstcache=\"1335\" class=\"section-result-description\" style=\"display:none\"> <span jstcache=\"1336\"></span> </div> </div> <div jstcache=\"1337\" class=\"section-result-hours-phone-container GLOBAL__gm2-body-2\" style=\"display: none; font-family: Roboto, &quot;Noto Sans KR&quot;, Arial, sans-serif;\" jsan=\"7.section-result-hours-phone-container,7.GLOBAL__gm2-body-2\"> <span jstcache=\"1338\" class=\"section-result-info section-result-closed\" style=\"display:none\"> <span jstcache=\"1339\"></span> <span aria-hidden=\"true\" jstcache=\"1340\" class=\"section-result-separator\" style=\"display:none\">·</span> </span> <span jstcache=\"1341\" class=\"section-result-info section-result-opening-hours\" style=\"display:none\"> <span jstcache=\"1342\"></span> <span aria-hidden=\"true\" jstcache=\"1343\" class=\"section-result-separator\" style=\"display:none\">·</span> </span> <span jstcache=\"1344\" class=\"section-result-info section-result-phone-number\" style=\"display:none\"> <span jstcache=\"1345\"></span> <span aria-hidden=\"true\" jstcache=\"1346\" class=\"section-result-separator\" style=\"display:none\">·</span> </span> <span jstcache=\"1347\" class=\"section-result-info\" style=\"display:none\" jsan=\"7.section-result-info\"></span> </div> <jsl jstcache=\"1348\"> <div jstcache=\"1392\" style=\"display:none\"></div> </jsl> <div jstcache=\"1349\" class=\"section-hotel-offer-info\" style=\"display:none\"></div> <div jstcache=\"1350\" class=\"section-hotel-offer-info\" style=\"display:none\"></div> <div jstcache=\"1351\" style=\"display:none\"></div> <div jstcache=\"1352\" class=\"section-result-details-container\" style=\"display:none\"> <div class=\"section-result-regular-gas-station\"></div> <span jstcache=\"1353\" class=\"section-result-regular-gas-price\" jsan=\"7.section-result-regular-gas-price\"></span> <span>/</span> <span jstcache=\"1354\"></span> <span jstcache=\"1355\" style=\"display:none\">&nbsp;*</span> </div> <div jstcache=\"1356\" class=\"section-result-details-container\" style=\"display:none\"> <div class=\"section-result-bikeshare-station\"></div> <span jstcache=\"1357\"></span> </div> </div> <div jstcache=\"1358\" class=\"section-image-container\" jsan=\"7.section-image-container,t-VaTdzLEqzxc\"> <div ved=\"1i:3,t:25178,e:0,p:Z8WOXpKnJv6e4-EPorSX-A4:128\" jstcache=\"1402\" class=\"section-result-image\" style=\"background-image:url(//lh3.googleusercontent.com/proxy/tgbV4VO-F41bl2MQFoBEDhnKvYzH2_5ZFZaQK0kUqRemcxjxOTcGeeKNPVM_RyGA-W89aqhutqzTuYQKxPm9fbWxr-mustle-AyDHqXs_aQSfmIAdYHItcxXTxE4vk69Rgwk2dk4WKTXt6_sPZWAjmjG8f-iSlpyj0fFmMl58hBbO81FsaTAqoof5H7yf9u5=w120-h138-p-k-no)\" jsan=\"7.section-result-image,5.background-image,0.ved\"></div> <div jstcache=\"1403\" style=\"display:none\"></div> </div> <div jstcache=\"1359\" style=\"display:none\"></div> </div> <div jstcache=\"1360\" class=\"section-result-subsection-container\"></div> <div jstcache=\"1361\" style=\"display:none\"></div> <div jstcache=\"1362\" style=\"display:none\"></div> <div jstcache=\"1363\" class=\"liae3lBrywu__root\" jsan=\"t-9x5rjBDqmy0,7.liae3lBrywu__root\"> <div jstcache=\"1373\" style=\"display:none\"></div> <div jstcache=\"1374\" class=\"liae3lBrywu__content\" jsan=\"7.liae3lBrywu__content\"> <span jstcache=\"1375\" style=\"display:none\"></span> </div> </div> <div jstcache=\"1364\" style=\"display:none\"></div> </div>"
   ]
  }
 ],
 "metadata": {
  "kernelspec": {
   "display_name": "Python 3",
   "language": "python",
   "name": "python3"
  },
  "language_info": {
   "codemirror_mode": {
    "name": "ipython",
    "version": 3
   },
   "file_extension": ".py",
   "mimetype": "text/x-python",
   "name": "python",
   "nbconvert_exporter": "python",
   "pygments_lexer": "ipython3",
   "version": "3.7.6"
  }
 },
 "nbformat": 4,
 "nbformat_minor": 4
}
