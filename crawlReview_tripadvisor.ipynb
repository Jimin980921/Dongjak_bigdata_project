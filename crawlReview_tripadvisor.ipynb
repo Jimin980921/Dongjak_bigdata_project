{
 "cells": [
  {
   "cell_type": "markdown",
   "metadata": {},
   "source": [
    "트립바이저"
   ]
  },
  {
   "cell_type": "code",
   "execution_count": 2,
   "metadata": {},
   "outputs": [],
   "source": [
    "#패키지 import\n",
    "from selenium import webdriver\n",
    "from selenium.webdriver.common.keys import Keys\n",
    "from bs4 import BeautifulSoup\n",
    "from time import sleep\n",
    "import requests\n",
    "import re\n",
    "import pandas as pd\n",
    "import numpy as np"
   ]
  },
  {
   "cell_type": "code",
   "execution_count": 37,
   "metadata": {},
   "outputs": [],
   "source": [
    "#검색창\n",
    "search_box='/html/body/div[1]/div/div[2]/div[2]/div/div/div[2]/header/div/nav/div[2]/div/div/form/input[1]'\n",
    "            \n",
    "#박스\n",
    "box='/html/body/div[2]/div/div[2]/div/div/div/div/div[1]/div/div[1]/div/div[3]/div/div[1]/div/div[2]/div/div/div[1]/div/div/div/div[2]'\n",
    "\n",
    "#리뷰버튼\n",
    "review_='/html/body/div[2]/div/div[2]/div/div/div/div/div[1]/div/div[1]/div/div[3]/div/div[1]/div/div[2]/div/div/div[1]/div/div/div/div[2]/div[1]/div[2]/div/a'\n",
    "              "
   ]
  },
  {
   "cell_type": "code",
   "execution_count": 5,
   "metadata": {},
   "outputs": [],
   "source": [
    "#txt파일을 배열로 불러오기 \n",
    "f = open('placeList.txt', 'r',encoding='UTF8')\n",
    "place_=[]\n",
    "lines = f.readlines()\n",
    "for line in lines:\n",
    "    place_.append(line)\n",
    "    f.close()\n",
    "    \n",
    "place=['현충원']"
   ]
  },
  {
   "cell_type": "code",
   "execution_count": 39,
   "metadata": {},
   "outputs": [
    {
     "name": "stdout",
     "output_type": "stream",
     "text": [
      "48건의 리뷰\n",
      "['48']\n"
     ]
    }
   ],
   "source": [
    "header = {'User-Agent': ''}\n",
    "d = webdriver.Chrome(executable_path=\"C:/Users/jmlee/Code/chromedriver_win32/chromedriver.exe\") #웹앱을 테스트하는데 이용하는 프레임워크, webdriver라는 API를 통해 운영체제에 설치된 브라우저 제어 \n",
    "d.implicitly_wait(3)\n",
    "d.get('https://www.tripadvisor.co.kr/') \n",
    "sleep(2)\n",
    "\n",
    "html=d.page_source\n",
    "soup=BeautifulSoup(html, \"html.parser\")\n",
    "sleep(1)\n",
    "\n",
    "def tripadvisior():\n",
    "    elem=d.find_element_by_xpath(search_box) #검색창\n",
    "    elem.send_keys(idx) #place전달\n",
    "    d.find_element_by_xpath(search_box).send_keys(Keys.ENTER) #엔터 치기\n",
    "    sleep(2)  \n",
    "\n",
    "    review=d.find_element_by_xpath(review_).text\n",
    "    print(review)\n",
    "    \n",
    "    numbers = re.findall(\"\\d+\", review)[0]\n",
    "    print(numbers)\n",
    "    "
   ]
  },
  {
   "cell_type": "code",
   "execution_count": null,
   "metadata": {},
   "outputs": [],
   "source": []
  }
 ],
 "metadata": {
  "kernelspec": {
   "display_name": "Python 3",
   "language": "python",
   "name": "python3"
  },
  "language_info": {
   "codemirror_mode": {
    "name": "ipython",
    "version": 3
   },
   "file_extension": ".py",
   "mimetype": "text/x-python",
   "name": "python",
   "nbconvert_exporter": "python",
   "pygments_lexer": "ipython3",
   "version": "3.7.6"
  }
 },
 "nbformat": 4,
 "nbformat_minor": 4
}
